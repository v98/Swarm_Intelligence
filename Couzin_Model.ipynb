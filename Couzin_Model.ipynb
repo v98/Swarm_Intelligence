{
 "cells": [
  {
   "cell_type": "markdown",
   "metadata": {},
   "source": [
    "## Couzin's Model\n",
    "#### Parameters: \n",
    "- n : number of agents\n",
    "- V : direction vectors of n agents\n",
    "- C : position vectors of n agents\n",
    "- tau: time step size\n",
    "- r_r: radius of repulsion\n",
    "- r_o: radius of orientation\n",
    "- r_a: radius of attraction\n",
    "- sigma: random error in direction\n",
    "- theta: turning rate\n",
    "- S : individual speed\n",
    "- alpha: cone angle\n",
    "    "
   ]
  },
  {
   "cell_type": "code",
   "execution_count": 1,
   "metadata": {},
   "outputs": [],
   "source": [
    "import random\n",
    "import numpy as np\n",
    "import math\n",
    "import plotly.graph_objects as go\n",
    "import pandas as pd"
   ]
  },
  {
   "cell_type": "code",
   "execution_count": 2,
   "metadata": {},
   "outputs": [],
   "source": [
    "# 1. Initialize n agents at n random locations in a sphere\n",
    "# 2. Initialize n agent direction vectors\n",
    "\n",
    "def gen_pos(n, r):\n",
    "    \n",
    "    # returns a random position vector corresponding to each agent\n",
    "    \n",
    "    C = {}\n",
    "    for i in range(n):\n",
    "        radius = random.uniform(0,r)\n",
    "        x1 = np.random.randn()\n",
    "        x2 = np.random.randn()\n",
    "        x3 = np.random.randn()\n",
    "    \n",
    "        mag = math.sqrt((x1*x1) + (x2*x2) + (x3*x3))\n",
    "        \n",
    "        x1 /= mag\n",
    "        x2 /= mag\n",
    "        x3 /= mag\n",
    "        \n",
    "        radius = radius **(1./3.) \n",
    "        x1*= radius\n",
    "        x2*= radius\n",
    "        x3*= radius\n",
    "        C[i] = np.asarray([x1,x2,x3])\n",
    "    \n",
    "    return C\n",
    "\n",
    "def gen_direction(n):\n",
    "    \n",
    "    # returns a random direction vector corresponding to each agent\n",
    "    \n",
    "    V = {}\n",
    "    for i in range(n):\n",
    "        u = np.random.randn()\n",
    "        v = np.random.randn()\n",
    "        w = np.random.randn()\n",
    "        mag = math.sqrt(u*u + v*v + w*w)\n",
    "        \n",
    "        u = u/mag\n",
    "        v = v/mag\n",
    "        w = w/mag\n",
    "        V[i] = np.asarray([u, v, w])\n",
    "        \n",
    "    return V\n",
    "\n",
    "def angle_diff(i, V, C):\n",
    "    \n",
    "    # returns the angle between the direction vector of each agent with the agent(i)\n",
    "    \n",
    "    ang_diff = []\n",
    "    n = len(V)\n",
    "    \n",
    "    for j in range(n):\n",
    "        cosang = np.dot(V[i], V[j])\n",
    "        sinang = np.linalg.norm(np.cross(V[i], V[j]))\n",
    "        ang_diff.append(np.arctan2(sinang,cosang))\n",
    "    \n",
    "    return np.degrees(ang_diff)\n",
    "\n",
    "def distance_diff(i, V, C):\n",
    "    \n",
    "    # returns the distance between the position vector of each agent with the agent(i)\n",
    "    \n",
    "    dist_diff = []\n",
    "    n = len(C)\n",
    "    for j in range(n):\n",
    "        \n",
    "        diff = V[i] - V[j] \n",
    "        dist = np.linalg.norm(diff)\n",
    "        dist_diff.append(dist)\n",
    "        \n",
    "    return dist_diff\n",
    "\n",
    "def not_inside_blind_cone(point_loc, agent_loc, agent_orient, cone_height, alpha ):\n",
    "    \n",
    "    # Checks if the location of given agent is inside the blind cone of provided agent\n",
    "    \n",
    "    cone_dist = np.dot(point_loc - agent_loc, agent_orient)\n",
    "    \n",
    "    if cone_dist <= 0 or cone_dist > cone_height:\n",
    "        return True\n",
    "    \n",
    "    sinang = np.linalg.norm(np.cross(point_loc-agent_loc, agent_orient))\n",
    "    cosang = np.dot(point_loc-agent_loc, agent_orient)\n",
    "    angle = np.degrees(np.arctan2(sinang, cosang))\n",
    "    \n",
    "    if angle > alpha:\n",
    "        return True\n",
    "    return False\n",
    "    \n",
    "def compute_orientation(i, distances, angles, r_r, r_o, alpha, V, C):\n",
    "    \n",
    "    # returns information corresponding to agents in the orientation sphere of agent i\n",
    "    \n",
    "    n = len(distances)\n",
    "    indices = []\n",
    "    \n",
    "    for j in range(n):\n",
    "        \n",
    "        if j != i:\n",
    "            if distances[j]> r_r and distances[j] <= r_o and not_inside_blind_cone(C[j],C[i],(-1 * V[i]),r_o,(360-alpha)):\n",
    "                indices.append[j]\n",
    "    n_o = len(indices)\n",
    "    V_o = []\n",
    "    C_o = []\n",
    "    \n",
    "    for j in range(n_o):\n",
    "        V_o.append(V[indices[j]])\n",
    "        C_o.append(C[indices[j]])\n",
    "    \n",
    "    return n_o, V_o, C_o\n",
    "\n",
    "def compute_attraction(i, distances, angles, r_o, r_a, alpha, C):\n",
    "    \n",
    "    # returns information corresponding to agents in the attraction sphere of agent i\n",
    "    \n",
    "    n = len(distances)\n",
    "    indices = []\n",
    "    \n",
    "    for j in range(n):\n",
    "        \n",
    "        if j != i and distances[j]> r_o and distances[j] <= r_a and not_inside_blind_cone(C[j],C[i],(-1 * V[i]),r_o,(360-alpha)):\n",
    "            indices.append[j]\n",
    "    \n",
    "    n_a = len(indices)\n",
    "    V_a = []\n",
    "    C_a = []\n",
    "    \n",
    "    for j in range(n_a):\n",
    "        V_a.append(V[indices[j]])\n",
    "        C_a.append(C[indices[j]])\n",
    "    \n",
    "    return n_a, V_a, C_a\n",
    "    \n",
    "\n",
    "def compute_repulsion(i, distances, angles, r_r, V, C):\n",
    "    \n",
    "    # returns information corresponding to agents in the repulsion sphere of agent i\n",
    "    \n",
    "    n = len(distances)\n",
    "    indices = []\n",
    "    \n",
    "    for j in range(n):\n",
    "        if j != i and distances[j] <= r_r:\n",
    "            indices.append(j)\n",
    "            \n",
    "    n_r = len(indices)\n",
    "    V_r = []\n",
    "    C_r = []\n",
    "    \n",
    "    for j in range(n_r):\n",
    "        V_r.append(V[indices[j]])\n",
    "        C_r.append(C[indices[j]])\n",
    "    \n",
    "    return n_r, V_r, C_r\n",
    "        \n",
    "\n",
    "\n",
    "def calculate_angle_between(old_di, di):\n",
    "    \n",
    "    # return angle in degrees between the old and new direction vector of agent\n",
    "    \n",
    "    cosang = np.dot(old_di, di)\n",
    "    sinang = np.linalg.norm(np.cross(old_di, di))\n",
    "\n",
    "    angle = np.arctan2(sinang, cosang)\n",
    "    \n",
    "    return np.degrees(angle)\n",
    "\n",
    "def compute_do(n_o, V_o, C_o):\n",
    "    resultant_vector = np.zeros((3,1))\n",
    "\n",
    "    for vector in V_o:\n",
    "        resultant_vector += vector/np.linalg.norm(vector)\n",
    "    \n",
    "    return resultant_vector\n",
    "\n",
    "def compute_da(n_a, V_a, C_a, C_i):\n",
    "    resultant_vector = np.zeros((3,1))\n",
    "\n",
    "    for vector in C_a:\n",
    "        vector_in_direction_of_j = (vector-C_i)/np.linalg.norm(vector-C_i)\n",
    "        resultant_vector += vector_in_direction_of_j/np.linalg.norm(vector_in_direction_of_j)\n",
    "    \n",
    "    return resultant_vector\n",
    "\n",
    "def compute_dr(C_r, C_i):\n",
    "    resultant_vector = np.zeros((3,))\n",
    "\n",
    "    for vector in C_r:\n",
    "        vector_in_direction_of_j = (vector-C_i)/np.linalg.norm(vector-C_i)\n",
    "        resultant_vector -= vector_in_direction_of_j/np.linalg.norm(vector_in_direction_of_j)\n",
    "    \n",
    "    return resultant_vector\n",
    "    \n",
    "    "
   ]
  },
  {
   "cell_type": "code",
   "execution_count": 3,
   "metadata": {},
   "outputs": [],
   "source": [
    "# function to compute the updated values at next timestep.\n",
    "def update(n, r, V, C, r_r, r_o, r_a, theta, alpha, sigma, tau, S):\n",
    "    directions = {}\n",
    "    positions = {}\n",
    "    for i in range(n):\n",
    "        # compute for each agent\n",
    "        \n",
    "        angles, distances = angle_diff(i, V, C), distance_diff(i, V, C)\n",
    "        \n",
    "        n_r, V_r, C_r = compute_repulsion(i, distances, angles, r_r, V, C)\n",
    "        \n",
    "        if n_r > 0:\n",
    "            di = compute_dr(C_r, C[i])\n",
    "        \n",
    "        elif n_r == 0:\n",
    "            \n",
    "            n_o, V_o, C_o = compute_orientation(i, distances, angles, r_r, r_o, alpha, V, C)\n",
    "            n_a, V_a, C_a = compute_attraction(i, distances, angles, r_o, r_a, alpha, C)\n",
    "\n",
    "            do = compute_do(n_o, V_o, C_o)            \n",
    "            da = compute_da(n_a, V_a, C_a, C[i])\n",
    "            \n",
    "            if n_o == 0 and n_a != 0 :\n",
    "                di = da \n",
    "                \n",
    "            elif n_a == 0 and n_o != 0:\n",
    "                di = do\n",
    "                \n",
    "            elif n_o != 0 and n_a != 0:\n",
    "                di = (do + da)*0.5\n",
    "\n",
    "            else:\n",
    "                di = V[i]\n",
    "                \n",
    "        # add error component in di, from gaussian with standard deviation sigma\n",
    "        # err  = compute_dev(sigma)\n",
    "        turn_angle = calculate_angle_between(V[i],di) \n",
    "        \n",
    "        if turn_angle < (theta * tau):\n",
    "            time_required_to_turn = turn_angle/theta\n",
    "            remaining_time = tau - time_required_to_turn\n",
    "            directions[i] = di\n",
    "            positions[i] = (C[i] + di * S * remaining_time)\n",
    "            \n",
    "        else:\n",
    "            new_di = V[i] + (di - V[i])*(theta*tau)\n",
    "            directions[i] = new_di*(1/np.linalg.norm(new_di))\n",
    "            positions[i] = C[i]\n",
    "        \n",
    "    return directions, positions\n"
   ]
  },
  {
   "cell_type": "code",
   "execution_count": 25,
   "metadata": {},
   "outputs": [],
   "source": [
    "def val_sim(n, r, r_r, r_o, r_a, theta, alpha, sigma, tau, S, n_timesteps):\n",
    "    # returns direction, location of n agents after n_timesteps\n",
    "    C = gen_pos(n, r)\n",
    "    V = gen_direction(n)\n",
    "    \n",
    "    for i in range(n_timesteps):\n",
    "        V, C = update(n, r, V, C, r_r, r_o, r_a, theta, alpha, sigma, tau, S)\n",
    "    return V,C\n",
    "\n",
    "def main():\n",
    "    # set values for variables\n",
    "    #n = 10           # vary between 10 and 100\n",
    "    #r = 20*20*20         # \n",
    "    #V = gen_direction(n, r)\n",
    "    #C = gen_pos(n, r)\n",
    "    #r_r = 1\n",
    "    #r_o = 0 #vary between(0-15)\n",
    "    #r_a = 0 #vary between(0-15)\n",
    "    \n",
    "    #theta = 10 # turning rate (degrees per second), vary between 10-100\n",
    "    #alpha = 200 # cone angle (field of preception), vary between 200-360\n",
    "    \n",
    "    #sigma = 0 # random error introduction in desired direction, vary between 0-11.5 degrees\n",
    "    \n",
    "    #tau = 0.1 #timestep(in seconds)\n",
    "    #S = [1 for i in range(n)]# individual speeds - vector of size n, vary between 1-5 \n",
    "    \n",
    "    # call val_sim() for different variable values ( 4 cases)\n",
    "    # display the simulated plot for the 4 scenarios\n",
    "    V,C = val_sim(50, 8000, 1, 10, 0, 10, 300, 0, 0.1, 1, 200)\n",
    "\n",
    "    return V,C\n",
    "    "
   ]
  },
  {
   "cell_type": "code",
   "execution_count": 26,
   "metadata": {},
   "outputs": [
    {
     "data": {
      "application/vnd.plotly.v1+json": {
       "config": {
        "plotlyServerURL": "https://plot.ly"
       },
       "data": [
        {
         "sizeref": 1,
         "type": "cone",
         "u": [
          0.7738653598983543,
          -0.6495225061308625,
          0.8473869872136769,
          -0.7737076608355202,
          0.39820143971965916,
          -0.5317275097945777,
          -0.9934128164081889,
          0.9442450694428359,
          0.6948663185476103,
          -0.8092227886357533,
          0.4435296587905436,
          -0.48910495111378705,
          -0.2398723071658812,
          -0.9176485459118726,
          0.9546396418895883,
          -0.951366520842209,
          -0.22418086771388665,
          -0.7806957441349472,
          -0.714358604609579,
          0.6930595236406355,
          -0.3668364029192345,
          0.7557389233341832,
          -0.8127290257816336,
          0.6865091837390725,
          0.35409101488590866,
          0.8409077005403695,
          0.7942154994572481,
          0.5098986215025155,
          0.7585573199254103,
          0.8878028423507999,
          -0.4601050919138538,
          0.3478896733685111,
          -0.44118188367172556,
          0.02098092634281551,
          -0.6732142392302074,
          -0.6247621800125982,
          0.8791045740102403,
          0.06554063752050852,
          -0.6506239950387501,
          0.08390238775610373,
          -0.2627213311234897,
          -0.3703761357804148,
          0.034706477592728845,
          -0.7085891759599519,
          -0.6247883251718426,
          0.5638904317048868,
          -0.3761394098796791,
          0.927912702309411,
          -0.13686106334079168,
          -0.5950020512764773
         ],
         "v": [
          -0.4094923446621182,
          0.15759765645335272,
          0.5243000361895069,
          -0.012882006581170473,
          -0.915981359566229,
          0.39331428011471997,
          -0.09650236697749764,
          0.0703325825094189,
          -0.5376641138055518,
          -0.02212088788524734,
          -0.8734847115799856,
          0.6732774486085914,
          -0.7131144177282281,
          -0.3909007981353932,
          0.08805363187019132,
          0.06623361780693057,
          0.9738633708748046,
          0.3725150266241933,
          -0.613592756590809,
          0.6455396196427207,
          0.9042717815003743,
          0.3097007836195539,
          -0.015150514795338726,
          -0.7017772962237779,
          0.619109462838231,
          -0.07008256265878691,
          -0.5869917640951535,
          -0.08771490625186795,
          -0.4754676654589988,
          -0.05971306686569332,
          -0.3780188088326583,
          -0.935521571104324,
          -0.8703172173150532,
          0.3811237590364309,
          -0.20197172623372095,
          -0.2668519561619789,
          0.4527362890977282,
          0.9314968419000348,
          0.7371531595755129,
          -0.755803704590695,
          -0.297247065729665,
          0.6078642519529083,
          0.8171491037546469,
          0.48185809998159485,
          -0.3117491939636294,
          0.2362200613881411,
          0.4117186601530992,
          -0.33474736014937584,
          0.7672441554303268,
          0.6244049200422845
         ],
         "w": [
          -0.4831650074379473,
          -0.7438302848835175,
          0.083933104032971,
          0.6334118008617066,
          0.049130055285880506,
          0.7500464868163154,
          -0.06179214645640912,
          -0.32164355530687994,
          -0.477575229753158,
          -0.5870852959083062,
          0.20076329447678773,
          0.5545032227057706,
          -0.6587329530872488,
          0.07153818702579866,
          -0.2844463254243009,
          0.3008568611363157,
          -0.03651127797560438,
          -0.5017436696449269,
          -0.3364457059906509,
          0.32085369900087957,
          0.21845731545410946,
          0.5770130885717619,
          -0.5824448407819169,
          -0.19029915172368994,
          0.7009443816746264,
          -0.5366215366374011,
          0.15704269899085924,
          -0.855750834654025,
          -0.445557281940884,
          -0.4563337186307121,
          -0.8033710752595479,
          -0.06141795472048985,
          0.21887550517326174,
          0.9242859303417627,
          0.7113297476556594,
          -0.7337998718441093,
          -0.14901342385265834,
          0.3577961128403531,
          0.18246543894024148,
          0.6494006078344906,
          -0.9179442706873908,
          0.7023692541976043,
          0.5753805720095897,
          -0.5154746853091079,
          -0.7158575198962369,
          0.791345476785872,
          0.8300643885971157,
          0.16407992493254786,
          0.626582361145949,
          0.506054399055845
         ],
         "x": [
          9.607385289559893,
          -5.90646269934173,
          13.909919139675923,
          -1.5794621057035487,
          9.4747301097585,
          -1.698986417686568,
          -9.189474867268054,
          15.314254637634898,
          6.209979428745351,
          -3.1030374672032806,
          5.899543798185651,
          -7.970402300888591,
          0.7422959596173424,
          -1.799373198053134,
          9.427254393163937,
          -14.004300522583714,
          3.641042829081057,
          -17.68261004313406,
          -0.2683883061432318,
          11.46642970966919,
          0.5152997031403191,
          12.25392308793557,
          -13.548317390944293,
          12.15989945356294,
          -5.747839262777261,
          16.836256913149636,
          16.471289509334266,
          10.570472324893284,
          14.749140220138719,
          4.1690124222396365,
          -12.688834792073886,
          7.498336201936951,
          -9.529473319938164,
          4.454661250710831,
          -2.851890696040642,
          -15.032892132248273,
          4.265154524145641,
          4.116225177145615,
          -12.124744035537526,
          2.463477416560617,
          4.270056045869274,
          1.0546988228319192,
          5.168553611571554,
          0.188929327669941,
          -1.3831215362906377,
          -7.57635741774416,
          3.3375498390094642,
          13.649570779124485,
          -7.646401915578009,
          -9.818213206667407
         ],
         "y": [
          -11.213456095916724,
          5.968663654887788,
          9.723113345267993,
          4.133658344671517,
          -7.836888807893367,
          17.726473218246763,
          -4.987276002928665,
          4.536742601251211,
          -13.989154667900701,
          -5.709033453479047,
          -15.304384494254151,
          0.46946685256972986,
          5.357034446464337,
          2.3581755281233954,
          -3.1683959034279248,
          -1.869631205128814,
          13.407787292198202,
          4.407631614509541,
          1.0126754301164043,
          6.736943677050161,
          18.436599040257427,
          6.563810863073321,
          -2.34950604296843,
          -0.22479512405536622,
          3.208885592955832,
          -9.858575966347347,
          -1.3767395048205449,
          3.2464998303503485,
          -0.4341011527320038,
          0.44412249696981054,
          -3.675468768719821,
          -17.21629769360838,
          -14.646220850770575,
          -1.0880985403545478,
          3.0891319668268147,
          -2.477896247743663,
          2.42043171487607,
          18.55078058654855,
          7.931588023153337,
          -10.341250463633893,
          -11.400168381619705,
          16.01426394996952,
          5.664060111414193,
          -2.95200147809016,
          1.4136207900558933,
          1.192804891558008,
          -1.8279440520964667,
          -9.652628203033359,
          3.5456433740977946,
          1.9799713970401482
         ],
         "z": [
          2.86675481009816,
          -17.88722688368936,
          -6.236679953443719,
          -3.4193664610766223,
          -7.763920706632187,
          7.172897907536829,
          8.490418358238024,
          -10.371409930711184,
          -2.711300794992917,
          4.060459337426475,
          11.128948355049385,
          10.320239623489504,
          0.021805605797627903,
          -6.8597194799873105,
          7.522860335188332,
          8.0136234659261,
          -7.498835661592673,
          -5.776470587263709,
          -9.661739008948112,
          14.518368102999043,
          -2.1451866772071226,
          -5.063515580137607,
          0.17784024844842597,
          -9.140986397606264,
          6.115120818651922,
          -2.490165462420769,
          -6.802479412139792,
          -13.303401483645965,
          -11.913961754870032,
          -5.9739997362913,
          -13.951191075694242,
          5.1721449548014,
          8.44802136868528,
          17.6890871439391,
          -2.4263805237106775,
          -5.77947145864907,
          2.4276505002338378,
          -0.7676494361727713,
          -3.613876272796609,
          14.798267255880036,
          -2.9197509937570887,
          4.774980983784934,
          16.989753747592662,
          6.00856264315842,
          -14.907248354995744,
          7.243658978074868,
          14.871896509057194,
          10.795266914301326,
          12.042945504847346,
          7.6355829121010625
         ]
        }
       ],
       "layout": {
        "template": {
         "data": {
          "bar": [
           {
            "error_x": {
             "color": "#2a3f5f"
            },
            "error_y": {
             "color": "#2a3f5f"
            },
            "marker": {
             "line": {
              "color": "#E5ECF6",
              "width": 0.5
             }
            },
            "type": "bar"
           }
          ],
          "barpolar": [
           {
            "marker": {
             "line": {
              "color": "#E5ECF6",
              "width": 0.5
             }
            },
            "type": "barpolar"
           }
          ],
          "carpet": [
           {
            "aaxis": {
             "endlinecolor": "#2a3f5f",
             "gridcolor": "white",
             "linecolor": "white",
             "minorgridcolor": "white",
             "startlinecolor": "#2a3f5f"
            },
            "baxis": {
             "endlinecolor": "#2a3f5f",
             "gridcolor": "white",
             "linecolor": "white",
             "minorgridcolor": "white",
             "startlinecolor": "#2a3f5f"
            },
            "type": "carpet"
           }
          ],
          "choropleth": [
           {
            "colorbar": {
             "outlinewidth": 0,
             "ticks": ""
            },
            "type": "choropleth"
           }
          ],
          "contour": [
           {
            "colorbar": {
             "outlinewidth": 0,
             "ticks": ""
            },
            "colorscale": [
             [
              0,
              "#0d0887"
             ],
             [
              0.1111111111111111,
              "#46039f"
             ],
             [
              0.2222222222222222,
              "#7201a8"
             ],
             [
              0.3333333333333333,
              "#9c179e"
             ],
             [
              0.4444444444444444,
              "#bd3786"
             ],
             [
              0.5555555555555556,
              "#d8576b"
             ],
             [
              0.6666666666666666,
              "#ed7953"
             ],
             [
              0.7777777777777778,
              "#fb9f3a"
             ],
             [
              0.8888888888888888,
              "#fdca26"
             ],
             [
              1,
              "#f0f921"
             ]
            ],
            "type": "contour"
           }
          ],
          "contourcarpet": [
           {
            "colorbar": {
             "outlinewidth": 0,
             "ticks": ""
            },
            "type": "contourcarpet"
           }
          ],
          "heatmap": [
           {
            "colorbar": {
             "outlinewidth": 0,
             "ticks": ""
            },
            "colorscale": [
             [
              0,
              "#0d0887"
             ],
             [
              0.1111111111111111,
              "#46039f"
             ],
             [
              0.2222222222222222,
              "#7201a8"
             ],
             [
              0.3333333333333333,
              "#9c179e"
             ],
             [
              0.4444444444444444,
              "#bd3786"
             ],
             [
              0.5555555555555556,
              "#d8576b"
             ],
             [
              0.6666666666666666,
              "#ed7953"
             ],
             [
              0.7777777777777778,
              "#fb9f3a"
             ],
             [
              0.8888888888888888,
              "#fdca26"
             ],
             [
              1,
              "#f0f921"
             ]
            ],
            "type": "heatmap"
           }
          ],
          "heatmapgl": [
           {
            "colorbar": {
             "outlinewidth": 0,
             "ticks": ""
            },
            "colorscale": [
             [
              0,
              "#0d0887"
             ],
             [
              0.1111111111111111,
              "#46039f"
             ],
             [
              0.2222222222222222,
              "#7201a8"
             ],
             [
              0.3333333333333333,
              "#9c179e"
             ],
             [
              0.4444444444444444,
              "#bd3786"
             ],
             [
              0.5555555555555556,
              "#d8576b"
             ],
             [
              0.6666666666666666,
              "#ed7953"
             ],
             [
              0.7777777777777778,
              "#fb9f3a"
             ],
             [
              0.8888888888888888,
              "#fdca26"
             ],
             [
              1,
              "#f0f921"
             ]
            ],
            "type": "heatmapgl"
           }
          ],
          "histogram": [
           {
            "marker": {
             "colorbar": {
              "outlinewidth": 0,
              "ticks": ""
             }
            },
            "type": "histogram"
           }
          ],
          "histogram2d": [
           {
            "colorbar": {
             "outlinewidth": 0,
             "ticks": ""
            },
            "colorscale": [
             [
              0,
              "#0d0887"
             ],
             [
              0.1111111111111111,
              "#46039f"
             ],
             [
              0.2222222222222222,
              "#7201a8"
             ],
             [
              0.3333333333333333,
              "#9c179e"
             ],
             [
              0.4444444444444444,
              "#bd3786"
             ],
             [
              0.5555555555555556,
              "#d8576b"
             ],
             [
              0.6666666666666666,
              "#ed7953"
             ],
             [
              0.7777777777777778,
              "#fb9f3a"
             ],
             [
              0.8888888888888888,
              "#fdca26"
             ],
             [
              1,
              "#f0f921"
             ]
            ],
            "type": "histogram2d"
           }
          ],
          "histogram2dcontour": [
           {
            "colorbar": {
             "outlinewidth": 0,
             "ticks": ""
            },
            "colorscale": [
             [
              0,
              "#0d0887"
             ],
             [
              0.1111111111111111,
              "#46039f"
             ],
             [
              0.2222222222222222,
              "#7201a8"
             ],
             [
              0.3333333333333333,
              "#9c179e"
             ],
             [
              0.4444444444444444,
              "#bd3786"
             ],
             [
              0.5555555555555556,
              "#d8576b"
             ],
             [
              0.6666666666666666,
              "#ed7953"
             ],
             [
              0.7777777777777778,
              "#fb9f3a"
             ],
             [
              0.8888888888888888,
              "#fdca26"
             ],
             [
              1,
              "#f0f921"
             ]
            ],
            "type": "histogram2dcontour"
           }
          ],
          "mesh3d": [
           {
            "colorbar": {
             "outlinewidth": 0,
             "ticks": ""
            },
            "type": "mesh3d"
           }
          ],
          "parcoords": [
           {
            "line": {
             "colorbar": {
              "outlinewidth": 0,
              "ticks": ""
             }
            },
            "type": "parcoords"
           }
          ],
          "scatter": [
           {
            "marker": {
             "colorbar": {
              "outlinewidth": 0,
              "ticks": ""
             }
            },
            "type": "scatter"
           }
          ],
          "scatter3d": [
           {
            "line": {
             "colorbar": {
              "outlinewidth": 0,
              "ticks": ""
             }
            },
            "marker": {
             "colorbar": {
              "outlinewidth": 0,
              "ticks": ""
             }
            },
            "type": "scatter3d"
           }
          ],
          "scattercarpet": [
           {
            "marker": {
             "colorbar": {
              "outlinewidth": 0,
              "ticks": ""
             }
            },
            "type": "scattercarpet"
           }
          ],
          "scattergeo": [
           {
            "marker": {
             "colorbar": {
              "outlinewidth": 0,
              "ticks": ""
             }
            },
            "type": "scattergeo"
           }
          ],
          "scattergl": [
           {
            "marker": {
             "colorbar": {
              "outlinewidth": 0,
              "ticks": ""
             }
            },
            "type": "scattergl"
           }
          ],
          "scattermapbox": [
           {
            "marker": {
             "colorbar": {
              "outlinewidth": 0,
              "ticks": ""
             }
            },
            "type": "scattermapbox"
           }
          ],
          "scatterpolar": [
           {
            "marker": {
             "colorbar": {
              "outlinewidth": 0,
              "ticks": ""
             }
            },
            "type": "scatterpolar"
           }
          ],
          "scatterpolargl": [
           {
            "marker": {
             "colorbar": {
              "outlinewidth": 0,
              "ticks": ""
             }
            },
            "type": "scatterpolargl"
           }
          ],
          "scatterternary": [
           {
            "marker": {
             "colorbar": {
              "outlinewidth": 0,
              "ticks": ""
             }
            },
            "type": "scatterternary"
           }
          ],
          "surface": [
           {
            "colorbar": {
             "outlinewidth": 0,
             "ticks": ""
            },
            "colorscale": [
             [
              0,
              "#0d0887"
             ],
             [
              0.1111111111111111,
              "#46039f"
             ],
             [
              0.2222222222222222,
              "#7201a8"
             ],
             [
              0.3333333333333333,
              "#9c179e"
             ],
             [
              0.4444444444444444,
              "#bd3786"
             ],
             [
              0.5555555555555556,
              "#d8576b"
             ],
             [
              0.6666666666666666,
              "#ed7953"
             ],
             [
              0.7777777777777778,
              "#fb9f3a"
             ],
             [
              0.8888888888888888,
              "#fdca26"
             ],
             [
              1,
              "#f0f921"
             ]
            ],
            "type": "surface"
           }
          ],
          "table": [
           {
            "cells": {
             "fill": {
              "color": "#EBF0F8"
             },
             "line": {
              "color": "white"
             }
            },
            "header": {
             "fill": {
              "color": "#C8D4E3"
             },
             "line": {
              "color": "white"
             }
            },
            "type": "table"
           }
          ]
         },
         "layout": {
          "annotationdefaults": {
           "arrowcolor": "#2a3f5f",
           "arrowhead": 0,
           "arrowwidth": 1
          },
          "colorscale": {
           "diverging": [
            [
             0,
             "#8e0152"
            ],
            [
             0.1,
             "#c51b7d"
            ],
            [
             0.2,
             "#de77ae"
            ],
            [
             0.3,
             "#f1b6da"
            ],
            [
             0.4,
             "#fde0ef"
            ],
            [
             0.5,
             "#f7f7f7"
            ],
            [
             0.6,
             "#e6f5d0"
            ],
            [
             0.7,
             "#b8e186"
            ],
            [
             0.8,
             "#7fbc41"
            ],
            [
             0.9,
             "#4d9221"
            ],
            [
             1,
             "#276419"
            ]
           ],
           "sequential": [
            [
             0,
             "#0d0887"
            ],
            [
             0.1111111111111111,
             "#46039f"
            ],
            [
             0.2222222222222222,
             "#7201a8"
            ],
            [
             0.3333333333333333,
             "#9c179e"
            ],
            [
             0.4444444444444444,
             "#bd3786"
            ],
            [
             0.5555555555555556,
             "#d8576b"
            ],
            [
             0.6666666666666666,
             "#ed7953"
            ],
            [
             0.7777777777777778,
             "#fb9f3a"
            ],
            [
             0.8888888888888888,
             "#fdca26"
            ],
            [
             1,
             "#f0f921"
            ]
           ],
           "sequentialminus": [
            [
             0,
             "#0d0887"
            ],
            [
             0.1111111111111111,
             "#46039f"
            ],
            [
             0.2222222222222222,
             "#7201a8"
            ],
            [
             0.3333333333333333,
             "#9c179e"
            ],
            [
             0.4444444444444444,
             "#bd3786"
            ],
            [
             0.5555555555555556,
             "#d8576b"
            ],
            [
             0.6666666666666666,
             "#ed7953"
            ],
            [
             0.7777777777777778,
             "#fb9f3a"
            ],
            [
             0.8888888888888888,
             "#fdca26"
            ],
            [
             1,
             "#f0f921"
            ]
           ]
          },
          "colorway": [
           "#636efa",
           "#EF553B",
           "#00cc96",
           "#ab63fa",
           "#FFA15A",
           "#19d3f3",
           "#FF6692",
           "#B6E880",
           "#FF97FF",
           "#FECB52"
          ],
          "font": {
           "color": "#2a3f5f"
          },
          "geo": {
           "bgcolor": "white",
           "lakecolor": "white",
           "landcolor": "#E5ECF6",
           "showlakes": true,
           "showland": true,
           "subunitcolor": "white"
          },
          "hoverlabel": {
           "align": "left"
          },
          "hovermode": "closest",
          "mapbox": {
           "style": "light"
          },
          "paper_bgcolor": "white",
          "plot_bgcolor": "#E5ECF6",
          "polar": {
           "angularaxis": {
            "gridcolor": "white",
            "linecolor": "white",
            "ticks": ""
           },
           "bgcolor": "#E5ECF6",
           "radialaxis": {
            "gridcolor": "white",
            "linecolor": "white",
            "ticks": ""
           }
          },
          "scene": {
           "xaxis": {
            "backgroundcolor": "#E5ECF6",
            "gridcolor": "white",
            "gridwidth": 2,
            "linecolor": "white",
            "showbackground": true,
            "ticks": "",
            "zerolinecolor": "white"
           },
           "yaxis": {
            "backgroundcolor": "#E5ECF6",
            "gridcolor": "white",
            "gridwidth": 2,
            "linecolor": "white",
            "showbackground": true,
            "ticks": "",
            "zerolinecolor": "white"
           },
           "zaxis": {
            "backgroundcolor": "#E5ECF6",
            "gridcolor": "white",
            "gridwidth": 2,
            "linecolor": "white",
            "showbackground": true,
            "ticks": "",
            "zerolinecolor": "white"
           }
          },
          "shapedefaults": {
           "line": {
            "color": "#2a3f5f"
           }
          },
          "ternary": {
           "aaxis": {
            "gridcolor": "white",
            "linecolor": "white",
            "ticks": ""
           },
           "baxis": {
            "gridcolor": "white",
            "linecolor": "white",
            "ticks": ""
           },
           "bgcolor": "#E5ECF6",
           "caxis": {
            "gridcolor": "white",
            "linecolor": "white",
            "ticks": ""
           }
          },
          "title": {
           "x": 0.05
          },
          "xaxis": {
           "automargin": true,
           "gridcolor": "white",
           "linecolor": "white",
           "ticks": "",
           "zerolinecolor": "white",
           "zerolinewidth": 2
          },
          "yaxis": {
           "automargin": true,
           "gridcolor": "white",
           "linecolor": "white",
           "ticks": "",
           "zerolinecolor": "white",
           "zerolinewidth": 2
          }
         }
        }
       }
      },
      "text/html": [
       "<div>\n",
       "        \n",
       "        \n",
       "            <div id=\"4258dd76-6428-4e28-b33e-2482a4eb2fe4\" class=\"plotly-graph-div\" style=\"height:525px; width:100%;\"></div>\n",
       "            <script type=\"text/javascript\">\n",
       "                require([\"plotly\"], function(Plotly) {\n",
       "                    window.PLOTLYENV=window.PLOTLYENV || {};\n",
       "                    \n",
       "                if (document.getElementById(\"4258dd76-6428-4e28-b33e-2482a4eb2fe4\")) {\n",
       "                    Plotly.newPlot(\n",
       "                        '4258dd76-6428-4e28-b33e-2482a4eb2fe4',\n",
       "                        [{\"sizeref\": 1, \"type\": \"cone\", \"u\": [0.7738653598983543, -0.6495225061308625, 0.8473869872136769, -0.7737076608355202, 0.39820143971965916, -0.5317275097945777, -0.9934128164081889, 0.9442450694428359, 0.6948663185476103, -0.8092227886357533, 0.4435296587905436, -0.48910495111378705, -0.2398723071658812, -0.9176485459118726, 0.9546396418895883, -0.951366520842209, -0.22418086771388665, -0.7806957441349472, -0.714358604609579, 0.6930595236406355, -0.3668364029192345, 0.7557389233341832, -0.8127290257816336, 0.6865091837390725, 0.35409101488590866, 0.8409077005403695, 0.7942154994572481, 0.5098986215025155, 0.7585573199254103, 0.8878028423507999, -0.4601050919138538, 0.3478896733685111, -0.44118188367172556, 0.02098092634281551, -0.6732142392302074, -0.6247621800125982, 0.8791045740102403, 0.06554063752050852, -0.6506239950387501, 0.08390238775610373, -0.2627213311234897, -0.3703761357804148, 0.034706477592728845, -0.7085891759599519, -0.6247883251718426, 0.5638904317048868, -0.3761394098796791, 0.927912702309411, -0.13686106334079168, -0.5950020512764773], \"v\": [-0.4094923446621182, 0.15759765645335272, 0.5243000361895069, -0.012882006581170473, -0.915981359566229, 0.39331428011471997, -0.09650236697749764, 0.0703325825094189, -0.5376641138055518, -0.02212088788524734, -0.8734847115799856, 0.6732774486085914, -0.7131144177282281, -0.3909007981353932, 0.08805363187019132, 0.06623361780693057, 0.9738633708748046, 0.3725150266241933, -0.613592756590809, 0.6455396196427207, 0.9042717815003743, 0.3097007836195539, -0.015150514795338726, -0.7017772962237779, 0.619109462838231, -0.07008256265878691, -0.5869917640951535, -0.08771490625186795, -0.4754676654589988, -0.05971306686569332, -0.3780188088326583, -0.935521571104324, -0.8703172173150532, 0.3811237590364309, -0.20197172623372095, -0.2668519561619789, 0.4527362890977282, 0.9314968419000348, 0.7371531595755129, -0.755803704590695, -0.297247065729665, 0.6078642519529083, 0.8171491037546469, 0.48185809998159485, -0.3117491939636294, 0.2362200613881411, 0.4117186601530992, -0.33474736014937584, 0.7672441554303268, 0.6244049200422845], \"w\": [-0.4831650074379473, -0.7438302848835175, 0.083933104032971, 0.6334118008617066, 0.049130055285880506, 0.7500464868163154, -0.06179214645640912, -0.32164355530687994, -0.477575229753158, -0.5870852959083062, 0.20076329447678773, 0.5545032227057706, -0.6587329530872488, 0.07153818702579866, -0.2844463254243009, 0.3008568611363157, -0.03651127797560438, -0.5017436696449269, -0.3364457059906509, 0.32085369900087957, 0.21845731545410946, 0.5770130885717619, -0.5824448407819169, -0.19029915172368994, 0.7009443816746264, -0.5366215366374011, 0.15704269899085924, -0.855750834654025, -0.445557281940884, -0.4563337186307121, -0.8033710752595479, -0.06141795472048985, 0.21887550517326174, 0.9242859303417627, 0.7113297476556594, -0.7337998718441093, -0.14901342385265834, 0.3577961128403531, 0.18246543894024148, 0.6494006078344906, -0.9179442706873908, 0.7023692541976043, 0.5753805720095897, -0.5154746853091079, -0.7158575198962369, 0.791345476785872, 0.8300643885971157, 0.16407992493254786, 0.626582361145949, 0.506054399055845], \"x\": [9.607385289559893, -5.90646269934173, 13.909919139675923, -1.5794621057035487, 9.4747301097585, -1.698986417686568, -9.189474867268054, 15.314254637634898, 6.209979428745351, -3.1030374672032806, 5.899543798185651, -7.970402300888591, 0.7422959596173424, -1.799373198053134, 9.427254393163937, -14.004300522583714, 3.641042829081057, -17.68261004313406, -0.2683883061432318, 11.46642970966919, 0.5152997031403191, 12.25392308793557, -13.548317390944293, 12.15989945356294, -5.747839262777261, 16.836256913149636, 16.471289509334266, 10.570472324893284, 14.749140220138719, 4.1690124222396365, -12.688834792073886, 7.498336201936951, -9.529473319938164, 4.454661250710831, -2.851890696040642, -15.032892132248273, 4.265154524145641, 4.116225177145615, -12.124744035537526, 2.463477416560617, 4.270056045869274, 1.0546988228319192, 5.168553611571554, 0.188929327669941, -1.3831215362906377, -7.57635741774416, 3.3375498390094642, 13.649570779124485, -7.646401915578009, -9.818213206667407], \"y\": [-11.213456095916724, 5.968663654887788, 9.723113345267993, 4.133658344671517, -7.836888807893367, 17.726473218246763, -4.987276002928665, 4.536742601251211, -13.989154667900701, -5.709033453479047, -15.304384494254151, 0.46946685256972986, 5.357034446464337, 2.3581755281233954, -3.1683959034279248, -1.869631205128814, 13.407787292198202, 4.407631614509541, 1.0126754301164043, 6.736943677050161, 18.436599040257427, 6.563810863073321, -2.34950604296843, -0.22479512405536622, 3.208885592955832, -9.858575966347347, -1.3767395048205449, 3.2464998303503485, -0.4341011527320038, 0.44412249696981054, -3.675468768719821, -17.21629769360838, -14.646220850770575, -1.0880985403545478, 3.0891319668268147, -2.477896247743663, 2.42043171487607, 18.55078058654855, 7.931588023153337, -10.341250463633893, -11.400168381619705, 16.01426394996952, 5.664060111414193, -2.95200147809016, 1.4136207900558933, 1.192804891558008, -1.8279440520964667, -9.652628203033359, 3.5456433740977946, 1.9799713970401482], \"z\": [2.86675481009816, -17.88722688368936, -6.236679953443719, -3.4193664610766223, -7.763920706632187, 7.172897907536829, 8.490418358238024, -10.371409930711184, -2.711300794992917, 4.060459337426475, 11.128948355049385, 10.320239623489504, 0.021805605797627903, -6.8597194799873105, 7.522860335188332, 8.0136234659261, -7.498835661592673, -5.776470587263709, -9.661739008948112, 14.518368102999043, -2.1451866772071226, -5.063515580137607, 0.17784024844842597, -9.140986397606264, 6.115120818651922, -2.490165462420769, -6.802479412139792, -13.303401483645965, -11.913961754870032, -5.9739997362913, -13.951191075694242, 5.1721449548014, 8.44802136868528, 17.6890871439391, -2.4263805237106775, -5.77947145864907, 2.4276505002338378, -0.7676494361727713, -3.613876272796609, 14.798267255880036, -2.9197509937570887, 4.774980983784934, 16.989753747592662, 6.00856264315842, -14.907248354995744, 7.243658978074868, 14.871896509057194, 10.795266914301326, 12.042945504847346, 7.6355829121010625]}],\n",
       "                        {\"template\": {\"data\": {\"bar\": [{\"error_x\": {\"color\": \"#2a3f5f\"}, \"error_y\": {\"color\": \"#2a3f5f\"}, \"marker\": {\"line\": {\"color\": \"#E5ECF6\", \"width\": 0.5}}, \"type\": \"bar\"}], \"barpolar\": [{\"marker\": {\"line\": {\"color\": \"#E5ECF6\", \"width\": 0.5}}, \"type\": \"barpolar\"}], \"carpet\": [{\"aaxis\": {\"endlinecolor\": \"#2a3f5f\", \"gridcolor\": \"white\", \"linecolor\": \"white\", \"minorgridcolor\": \"white\", \"startlinecolor\": \"#2a3f5f\"}, \"baxis\": {\"endlinecolor\": \"#2a3f5f\", \"gridcolor\": \"white\", \"linecolor\": \"white\", \"minorgridcolor\": \"white\", \"startlinecolor\": \"#2a3f5f\"}, \"type\": \"carpet\"}], \"choropleth\": [{\"colorbar\": {\"outlinewidth\": 0, \"ticks\": \"\"}, \"type\": \"choropleth\"}], \"contour\": [{\"colorbar\": {\"outlinewidth\": 0, \"ticks\": \"\"}, \"colorscale\": [[0.0, \"#0d0887\"], [0.1111111111111111, \"#46039f\"], [0.2222222222222222, \"#7201a8\"], [0.3333333333333333, \"#9c179e\"], [0.4444444444444444, \"#bd3786\"], [0.5555555555555556, \"#d8576b\"], [0.6666666666666666, \"#ed7953\"], [0.7777777777777778, \"#fb9f3a\"], [0.8888888888888888, \"#fdca26\"], [1.0, \"#f0f921\"]], \"type\": \"contour\"}], \"contourcarpet\": [{\"colorbar\": {\"outlinewidth\": 0, \"ticks\": \"\"}, \"type\": \"contourcarpet\"}], \"heatmap\": [{\"colorbar\": {\"outlinewidth\": 0, \"ticks\": \"\"}, \"colorscale\": [[0.0, \"#0d0887\"], [0.1111111111111111, \"#46039f\"], [0.2222222222222222, \"#7201a8\"], [0.3333333333333333, \"#9c179e\"], [0.4444444444444444, \"#bd3786\"], [0.5555555555555556, \"#d8576b\"], [0.6666666666666666, \"#ed7953\"], [0.7777777777777778, \"#fb9f3a\"], [0.8888888888888888, \"#fdca26\"], [1.0, \"#f0f921\"]], \"type\": \"heatmap\"}], \"heatmapgl\": [{\"colorbar\": {\"outlinewidth\": 0, \"ticks\": \"\"}, \"colorscale\": [[0.0, \"#0d0887\"], [0.1111111111111111, \"#46039f\"], [0.2222222222222222, \"#7201a8\"], [0.3333333333333333, \"#9c179e\"], [0.4444444444444444, \"#bd3786\"], [0.5555555555555556, \"#d8576b\"], [0.6666666666666666, \"#ed7953\"], [0.7777777777777778, \"#fb9f3a\"], [0.8888888888888888, \"#fdca26\"], [1.0, \"#f0f921\"]], \"type\": \"heatmapgl\"}], \"histogram\": [{\"marker\": {\"colorbar\": {\"outlinewidth\": 0, \"ticks\": \"\"}}, \"type\": \"histogram\"}], \"histogram2d\": [{\"colorbar\": {\"outlinewidth\": 0, \"ticks\": \"\"}, \"colorscale\": [[0.0, \"#0d0887\"], [0.1111111111111111, \"#46039f\"], [0.2222222222222222, \"#7201a8\"], [0.3333333333333333, \"#9c179e\"], [0.4444444444444444, \"#bd3786\"], [0.5555555555555556, \"#d8576b\"], [0.6666666666666666, \"#ed7953\"], [0.7777777777777778, \"#fb9f3a\"], [0.8888888888888888, \"#fdca26\"], [1.0, \"#f0f921\"]], \"type\": \"histogram2d\"}], \"histogram2dcontour\": [{\"colorbar\": {\"outlinewidth\": 0, \"ticks\": \"\"}, \"colorscale\": [[0.0, \"#0d0887\"], [0.1111111111111111, \"#46039f\"], [0.2222222222222222, \"#7201a8\"], [0.3333333333333333, \"#9c179e\"], [0.4444444444444444, \"#bd3786\"], [0.5555555555555556, \"#d8576b\"], [0.6666666666666666, \"#ed7953\"], [0.7777777777777778, \"#fb9f3a\"], [0.8888888888888888, \"#fdca26\"], [1.0, \"#f0f921\"]], \"type\": \"histogram2dcontour\"}], \"mesh3d\": [{\"colorbar\": {\"outlinewidth\": 0, \"ticks\": \"\"}, \"type\": \"mesh3d\"}], \"parcoords\": [{\"line\": {\"colorbar\": {\"outlinewidth\": 0, \"ticks\": \"\"}}, \"type\": \"parcoords\"}], \"scatter\": [{\"marker\": {\"colorbar\": {\"outlinewidth\": 0, \"ticks\": \"\"}}, \"type\": \"scatter\"}], \"scatter3d\": [{\"line\": {\"colorbar\": {\"outlinewidth\": 0, \"ticks\": \"\"}}, \"marker\": {\"colorbar\": {\"outlinewidth\": 0, \"ticks\": \"\"}}, \"type\": \"scatter3d\"}], \"scattercarpet\": [{\"marker\": {\"colorbar\": {\"outlinewidth\": 0, \"ticks\": \"\"}}, \"type\": \"scattercarpet\"}], \"scattergeo\": [{\"marker\": {\"colorbar\": {\"outlinewidth\": 0, \"ticks\": \"\"}}, \"type\": \"scattergeo\"}], \"scattergl\": [{\"marker\": {\"colorbar\": {\"outlinewidth\": 0, \"ticks\": \"\"}}, \"type\": \"scattergl\"}], \"scattermapbox\": [{\"marker\": {\"colorbar\": {\"outlinewidth\": 0, \"ticks\": \"\"}}, \"type\": \"scattermapbox\"}], \"scatterpolar\": [{\"marker\": {\"colorbar\": {\"outlinewidth\": 0, \"ticks\": \"\"}}, \"type\": \"scatterpolar\"}], \"scatterpolargl\": [{\"marker\": {\"colorbar\": {\"outlinewidth\": 0, \"ticks\": \"\"}}, \"type\": \"scatterpolargl\"}], \"scatterternary\": [{\"marker\": {\"colorbar\": {\"outlinewidth\": 0, \"ticks\": \"\"}}, \"type\": \"scatterternary\"}], \"surface\": [{\"colorbar\": {\"outlinewidth\": 0, \"ticks\": \"\"}, \"colorscale\": [[0.0, \"#0d0887\"], [0.1111111111111111, \"#46039f\"], [0.2222222222222222, \"#7201a8\"], [0.3333333333333333, \"#9c179e\"], [0.4444444444444444, \"#bd3786\"], [0.5555555555555556, \"#d8576b\"], [0.6666666666666666, \"#ed7953\"], [0.7777777777777778, \"#fb9f3a\"], [0.8888888888888888, \"#fdca26\"], [1.0, \"#f0f921\"]], \"type\": \"surface\"}], \"table\": [{\"cells\": {\"fill\": {\"color\": \"#EBF0F8\"}, \"line\": {\"color\": \"white\"}}, \"header\": {\"fill\": {\"color\": \"#C8D4E3\"}, \"line\": {\"color\": \"white\"}}, \"type\": \"table\"}]}, \"layout\": {\"annotationdefaults\": {\"arrowcolor\": \"#2a3f5f\", \"arrowhead\": 0, \"arrowwidth\": 1}, \"colorscale\": {\"diverging\": [[0, \"#8e0152\"], [0.1, \"#c51b7d\"], [0.2, \"#de77ae\"], [0.3, \"#f1b6da\"], [0.4, \"#fde0ef\"], [0.5, \"#f7f7f7\"], [0.6, \"#e6f5d0\"], [0.7, \"#b8e186\"], [0.8, \"#7fbc41\"], [0.9, \"#4d9221\"], [1, \"#276419\"]], \"sequential\": [[0.0, \"#0d0887\"], [0.1111111111111111, \"#46039f\"], [0.2222222222222222, \"#7201a8\"], [0.3333333333333333, \"#9c179e\"], [0.4444444444444444, \"#bd3786\"], [0.5555555555555556, \"#d8576b\"], [0.6666666666666666, \"#ed7953\"], [0.7777777777777778, \"#fb9f3a\"], [0.8888888888888888, \"#fdca26\"], [1.0, \"#f0f921\"]], \"sequentialminus\": [[0.0, \"#0d0887\"], [0.1111111111111111, \"#46039f\"], [0.2222222222222222, \"#7201a8\"], [0.3333333333333333, \"#9c179e\"], [0.4444444444444444, \"#bd3786\"], [0.5555555555555556, \"#d8576b\"], [0.6666666666666666, \"#ed7953\"], [0.7777777777777778, \"#fb9f3a\"], [0.8888888888888888, \"#fdca26\"], [1.0, \"#f0f921\"]]}, \"colorway\": [\"#636efa\", \"#EF553B\", \"#00cc96\", \"#ab63fa\", \"#FFA15A\", \"#19d3f3\", \"#FF6692\", \"#B6E880\", \"#FF97FF\", \"#FECB52\"], \"font\": {\"color\": \"#2a3f5f\"}, \"geo\": {\"bgcolor\": \"white\", \"lakecolor\": \"white\", \"landcolor\": \"#E5ECF6\", \"showlakes\": true, \"showland\": true, \"subunitcolor\": \"white\"}, \"hoverlabel\": {\"align\": \"left\"}, \"hovermode\": \"closest\", \"mapbox\": {\"style\": \"light\"}, \"paper_bgcolor\": \"white\", \"plot_bgcolor\": \"#E5ECF6\", \"polar\": {\"angularaxis\": {\"gridcolor\": \"white\", \"linecolor\": \"white\", \"ticks\": \"\"}, \"bgcolor\": \"#E5ECF6\", \"radialaxis\": {\"gridcolor\": \"white\", \"linecolor\": \"white\", \"ticks\": \"\"}}, \"scene\": {\"xaxis\": {\"backgroundcolor\": \"#E5ECF6\", \"gridcolor\": \"white\", \"gridwidth\": 2, \"linecolor\": \"white\", \"showbackground\": true, \"ticks\": \"\", \"zerolinecolor\": \"white\"}, \"yaxis\": {\"backgroundcolor\": \"#E5ECF6\", \"gridcolor\": \"white\", \"gridwidth\": 2, \"linecolor\": \"white\", \"showbackground\": true, \"ticks\": \"\", \"zerolinecolor\": \"white\"}, \"zaxis\": {\"backgroundcolor\": \"#E5ECF6\", \"gridcolor\": \"white\", \"gridwidth\": 2, \"linecolor\": \"white\", \"showbackground\": true, \"ticks\": \"\", \"zerolinecolor\": \"white\"}}, \"shapedefaults\": {\"line\": {\"color\": \"#2a3f5f\"}}, \"ternary\": {\"aaxis\": {\"gridcolor\": \"white\", \"linecolor\": \"white\", \"ticks\": \"\"}, \"baxis\": {\"gridcolor\": \"white\", \"linecolor\": \"white\", \"ticks\": \"\"}, \"bgcolor\": \"#E5ECF6\", \"caxis\": {\"gridcolor\": \"white\", \"linecolor\": \"white\", \"ticks\": \"\"}}, \"title\": {\"x\": 0.05}, \"xaxis\": {\"automargin\": true, \"gridcolor\": \"white\", \"linecolor\": \"white\", \"ticks\": \"\", \"zerolinecolor\": \"white\", \"zerolinewidth\": 2}, \"yaxis\": {\"automargin\": true, \"gridcolor\": \"white\", \"linecolor\": \"white\", \"ticks\": \"\", \"zerolinecolor\": \"white\", \"zerolinewidth\": 2}}}},\n",
       "                        {\"responsive\": true}\n",
       "                    ).then(function(){\n",
       "                            \n",
       "var gd = document.getElementById('4258dd76-6428-4e28-b33e-2482a4eb2fe4');\n",
       "var x = new MutationObserver(function (mutations, observer) {{\n",
       "        var display = window.getComputedStyle(gd).display;\n",
       "        if (!display || display === 'none') {{\n",
       "            console.log([gd, 'removed!']);\n",
       "            Plotly.purge(gd);\n",
       "            observer.disconnect();\n",
       "        }}\n",
       "}});\n",
       "\n",
       "// Listen for the removal of the full notebook cells\n",
       "var notebookContainer = gd.closest('#notebook-container');\n",
       "if (notebookContainer) {{\n",
       "    x.observe(notebookContainer, {childList: true});\n",
       "}}\n",
       "\n",
       "// Listen for the clearing of the current output cell\n",
       "var outputEl = gd.closest('.output');\n",
       "if (outputEl) {{\n",
       "    x.observe(outputEl, {childList: true});\n",
       "}}\n",
       "\n",
       "                        })\n",
       "                };\n",
       "                });\n",
       "            </script>\n",
       "        </div>"
      ]
     },
     "metadata": {},
     "output_type": "display_data"
    }
   ],
   "source": [
    "if __name__ == '__main__':\n",
    "    \n",
    "\n",
    "    V, C = main()\n",
    "    df = pd.DataFrame(columns=['x','y','z','u','v','w'])\n",
    "    \n",
    "    for i in range(len(V)):\n",
    "        df.loc[i,'x'] = C[i][0] \n",
    "        df.loc[i,'y'] = C[i][1]\n",
    "        df.loc[i,'z'] = C[i][2]\n",
    "        df.loc[i,'u'] = V[i][0]\n",
    "        df.loc[i,'v'] = V[i][1]\n",
    "        df.loc[i,'w'] = V[i][2]       \n",
    "\n",
    "    fig = go.Figure(data = go.Cone(\n",
    "        x=df['x'],\n",
    "        y=df['y'],\n",
    "        z=df['z'],\n",
    "        u=df['u'],\n",
    "        v=df['v'],\n",
    "        w=df['w'],\n",
    "       \n",
    "        \n",
    "        sizeref=1))\n",
    "\n",
    "    #fig.update_layout(scene=dict(aspectratio=dict(x=1, y=1, z=0.8),\n",
    "                                 #camera_eye=dict(x=1.2, y=1.2, z=0.6)))\n",
    "\n",
    "    fig.show()"
   ]
  }
 ],
 "metadata": {
  "kernelspec": {
   "display_name": "Python 3",
   "language": "python",
   "name": "python3"
  },
  "language_info": {
   "codemirror_mode": {
    "name": "ipython",
    "version": 3
   },
   "file_extension": ".py",
   "mimetype": "text/x-python",
   "name": "python",
   "nbconvert_exporter": "python",
   "pygments_lexer": "ipython3",
   "version": "3.7.4"
  }
 },
 "nbformat": 4,
 "nbformat_minor": 2
}
