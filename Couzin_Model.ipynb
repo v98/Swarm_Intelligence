{
 "cells": [
  {
   "cell_type": "markdown",
   "metadata": {},
   "source": [
    "## Couzin's Model\n",
    "#### Parameters: \n",
    "- n : number of agents\n",
    "- V : direction vectors of n agents\n",
    "- C : position vectors of n agents\n",
    "- tau: time step size\n",
    "- r_r: radius of repulsion\n",
    "- r_o: radius of orientation\n",
    "- r_a: radius of attraction\n",
    "- sigma: random error in direction\n",
    "- theta: turning rate\n",
    "- S : individual speed\n",
    "- alpha: cone angle\n",
    "    "
   ]
  },
  {
   "cell_type": "code",
   "execution_count": 11,
   "metadata": {},
   "outputs": [],
   "source": [
    "import random\n",
    "import numpy as np\n",
    "import math\n",
    "import plotly.graph_objects as go\n",
    "import pandas as pd"
   ]
  },
  {
   "cell_type": "code",
   "execution_count": 12,
   "metadata": {},
   "outputs": [],
   "source": [
    "# 1. Initialize n agents at n random locations in a sphere\n",
    "# 2. Initialize n agent direction vectors\n",
    "\n",
    "def gen_pos(n, r):\n",
    "    \n",
    "    # returns a random position vector corresponding to each agent\n",
    "    \n",
    "    C = {}\n",
    "    for i in range(n):\n",
    "        radius = random.uniform(0,r)\n",
    "        x1 = np.random.randn()\n",
    "        x2 = np.random.randn()\n",
    "        x3 = np.random.randn()\n",
    "    \n",
    "        mag = math.sqrt((x1*x1) + (x2*x2) + (x3*x3))\n",
    "        \n",
    "        x1 /= mag\n",
    "        x2 /= mag\n",
    "        x3 /= mag\n",
    "        \n",
    "        radius = radius **(1./3.) \n",
    "        x1*= radius\n",
    "        x2*= radius\n",
    "        x3*= radius\n",
    "        C[i] = np.asarray([x1,x2,x3])\n",
    "    \n",
    "    return C\n",
    "\n",
    "def gen_direction(n):\n",
    "    \n",
    "    # returns a random direction vector corresponding to each agent\n",
    "    \n",
    "    V = {}\n",
    "    for i in range(n):\n",
    "        u = np.random.randn()\n",
    "        v = np.random.randn()\n",
    "        w = np.random.randn()\n",
    "        mag = math.sqrt(u*u + v*v + w*w)\n",
    "        \n",
    "        u = u/mag\n",
    "        v = v/mag\n",
    "        w = w/mag\n",
    "        V[i] = np.asarray([u, v, w])\n",
    "        \n",
    "    return V\n",
    "\n",
    "def angle_diff(i, V, C):\n",
    "    \n",
    "    # returns the angle between the direction vector of each agent with the agent(i)\n",
    "    \n",
    "    ang_diff = []\n",
    "    n = len(V)\n",
    "    \n",
    "    for j in range(n):\n",
    "        cosang = np.dot(V[i], V[j])\n",
    "        sinang = np.linalg.norm(np.cross(V[i], V[j]))\n",
    "        ang_diff.append(np.arctan2(sinang,cosang))\n",
    "    \n",
    "    return np.degrees(ang_diff)\n",
    "\n",
    "def distance_diff(i, V, C):\n",
    "    \n",
    "    # returns the distance between the position vector of each agent with the agent(i)\n",
    "    \n",
    "    dist_diff = []\n",
    "    n = len(C)\n",
    "    for j in range(n):\n",
    "        \n",
    "        diff = V[i] - V[j] \n",
    "        dist = np.linalg.norm(diff)\n",
    "        dist_diff.append(dist)\n",
    "        \n",
    "    return dist_diff\n",
    "\n",
    "def not_inside_blind_cone(point_loc, agent_loc, agent_orient, cone_height, alpha ):\n",
    "    \n",
    "    # Checks if the location of given agent is inside the blind cone of provided agent\n",
    "    \n",
    "    cone_dist = np.dot(point_loc - agent_loc, agent_orient)\n",
    "    \n",
    "    if cone_dist <= 0 or cone_dist > cone_height:\n",
    "        return True\n",
    "    \n",
    "    sinang = np.linalg.norm(np.cross(point_loc-agent_loc, agent_orient))\n",
    "    cosang = np.dot(point_loc-agent_loc, agent_orient)\n",
    "    angle = np.degrees(np.arctan2(sinang, cosang))\n",
    "    \n",
    "    if angle > alpha:\n",
    "        return True\n",
    "    return False\n",
    "    \n",
    "def compute_orientation(i, distances, angles, r_r, r_o, alpha, V, C):\n",
    "    \n",
    "    # returns information corresponding to agents in the orientation sphere of agent i\n",
    "    \n",
    "    n = len(distances)\n",
    "    indices = []\n",
    "    \n",
    "    for j in range(n):\n",
    "        \n",
    "        if j != i:\n",
    "            if distances[j]> r_r and distances[j] <= r_o and not_inside_blind_cone(C[j],C[i],(-1 * V[i]),r_o,(360-alpha)):\n",
    "                indices.append[j]\n",
    "    n_o = len(indices)\n",
    "    V_o = []\n",
    "    C_o = []\n",
    "    \n",
    "    for j in range(n_o):\n",
    "        V_o.append(V[indices[j]])\n",
    "        C_o.append(C[indices[j]])\n",
    "    \n",
    "    return n_o, V_o, C_o\n",
    "\n",
    "def compute_attraction(i, distances, angles, r_o, r_a, alpha, C):\n",
    "    \n",
    "    # returns information corresponding to agents in the attraction sphere of agent i\n",
    "    \n",
    "    n = len(distances)\n",
    "    indices = []\n",
    "    \n",
    "    for j in range(n):\n",
    "        \n",
    "        if j != i and distances[j]> r_o and distances[j] <= r_a and not_inside_blind_cone(C[j],C[i],(-1 * V[i]),r_o,(360-alpha)):\n",
    "            indices.append[j]\n",
    "    \n",
    "    n_a = len(indices)\n",
    "    V_a = []\n",
    "    C_a = []\n",
    "    \n",
    "    for j in range(n_a):\n",
    "        V_a.append(V[indices[j]])\n",
    "        C_a.append(C[indices[j]])\n",
    "    \n",
    "    return n_a, V_a, C_a\n",
    "    \n",
    "\n",
    "def compute_repulsion(i, distances, angles, r_r, V, C):\n",
    "    \n",
    "    # returns information corresponding to agents in the repulsion sphere of agent i\n",
    "    \n",
    "    n = len(distances)\n",
    "    indices = []\n",
    "    \n",
    "    for j in range(n):\n",
    "        if j != i and distances[j] <= r_r:\n",
    "            indices.append(j)\n",
    "            \n",
    "    n_r = len(indices)\n",
    "    V_r = []\n",
    "    C_r = []\n",
    "    \n",
    "    for j in range(n_r):\n",
    "        V_r.append(V[indices[j]])\n",
    "        C_r.append(C[indices[j]])\n",
    "    \n",
    "    return n_r, V_r, C_r\n",
    "        \n",
    "\n",
    "\n",
    "def calculate_angle_between(old_di, di):\n",
    "    \n",
    "    # return angle in degrees between the old and new direction vector of agent\n",
    "    \n",
    "    cosang = np.dot(old_di, di)\n",
    "    sinang = np.linalg.norm(np.cross(old_di, di))\n",
    "\n",
    "    angle = np.arctan2(sinang, cosang)\n",
    "    \n",
    "    return np.degrees(angle)\n",
    "\n",
    "def compute_do(n_o, V_o, C_o):\n",
    "    resultant_vector = np.zeros((3,1))\n",
    "\n",
    "    for vector in V_o:\n",
    "        resultant_vector += vector/np.linalg.norm(vector)\n",
    "    \n",
    "    return resultant_vector\n",
    "\n",
    "def compute_da(n_a, V_a, C_a, C_i):\n",
    "    resultant_vector = np.zeros((3,1))\n",
    "\n",
    "    for vector in C_a:\n",
    "        vector_in_direction_of_j = (vector-C_i)/np.linalg.norm(vector-C_i)\n",
    "        resultant_vector += vector_in_direction_of_j/np.linalg.norm(vector_in_direction_of_j)\n",
    "    \n",
    "    return resultant_vector\n",
    "\n",
    "def compute_dr(C_r, C_i):\n",
    "    resultant_vector = np.zeros((3,))\n",
    "\n",
    "    for vector in C_r:\n",
    "        vector_in_direction_of_j = (vector-C_i)/np.linalg.norm(vector-C_i)\n",
    "        resultant_vector -= vector_in_direction_of_j/np.linalg.norm(vector_in_direction_of_j)\n",
    "    \n",
    "    return resultant_vector\n",
    "    \n",
    "    "
   ]
  },
  {
   "cell_type": "code",
   "execution_count": 13,
   "metadata": {},
   "outputs": [],
   "source": [
    "# function to compute the updated values at next timestep.\n",
    "def update(n, r, V, C, r_r, r_o, r_a, theta, alpha, sigma, tau, S):\n",
    "    directions = {}\n",
    "    positions = {}\n",
    "    for i in range(n):\n",
    "        # compute for each agent\n",
    "        \n",
    "        angles, distances = angle_diff(i, V, C), distance_diff(i, V, C)\n",
    "        \n",
    "        n_r, V_r, C_r = compute_repulsion(i, distances, angles, r_r, V, C)\n",
    "        \n",
    "        if n_r > 0:\n",
    "            di = compute_dr(C_r, C[i])\n",
    "        \n",
    "        elif n_r == 0:\n",
    "            \n",
    "            n_o, V_o, C_o = compute_orientation(i, distances, angles, r_r, r_o, alpha, V, C)\n",
    "            n_a, V_a, C_a = compute_attraction(i, distances, angles, r_o, r_a, alpha, C)\n",
    "\n",
    "            do = compute_do(n_o, V_o, C_o)            \n",
    "            da = compute_da(n_a, V_a, C_a, C[i])\n",
    "            \n",
    "            if n_o == 0 and n_a != 0 :\n",
    "                di = da \n",
    "                \n",
    "            elif n_a == 0 and n_o != 0:\n",
    "                di = do\n",
    "                \n",
    "            elif n_o != 0 and n_a != 0:\n",
    "                di = (do + da)*0.5\n",
    "\n",
    "            else:\n",
    "                di = V[i]\n",
    "                \n",
    "        # add error component in di, from gaussian with standard deviation sigma\n",
    "        # err  = compute_dev(sigma)\n",
    "        turn_angle = calculate_angle_between(V[i],di) \n",
    "        \n",
    "        if turn_angle < (theta * tau):\n",
    "            time_required_to_turn = turn_angle/theta\n",
    "            remaining_time = tau - time_required_to_turn\n",
    "            directions[i] = di\n",
    "            positions[i] = (C[i] + di * S * remaining_time)\n",
    "            \n",
    "        else:\n",
    "            new_di = V[i] + (di - V[i])*(theta*tau)\n",
    "            directions[i] = new_di*(1/np.linalg.norm(new_di))\n",
    "            positions[i] = C[i]\n",
    "        \n",
    "    return directions, positions\n"
   ]
  },
  {
   "cell_type": "code",
   "execution_count": 14,
   "metadata": {},
   "outputs": [],
   "source": [
    "def val_sim(n, r, r_r, r_o, r_a, theta, alpha, sigma, tau, S, n_timesteps):\n",
    "    # returns direction, location of n agents after n_timesteps\n",
    "    C = gen_pos(n, r)\n",
    "    V = gen_direction(n)\n",
    "    \n",
    "    for i in range(n_timesteps):\n",
    "        V, C = update(n, r, V, C, r_r, r_o, r_a, theta, alpha, sigma, tau, S)\n",
    "    return V,C\n",
    "\n",
    "def main():\n",
    "    # set values for variables\n",
    "    #n = 10           # vary between 10 and 100\n",
    "    #r = 20*20*20         # \n",
    "    #V = gen_direction(n, r)\n",
    "    #C = gen_pos(n, r)\n",
    "    #r_r = 1\n",
    "    #r_o = 0 #vary between(0-15)\n",
    "    #r_a = 0 #vary between(0-15)\n",
    "    \n",
    "    #theta = 10 # turning rate (degrees per second), vary between 10-100\n",
    "    #alpha = 200 # cone angle (field of preception), vary between 200-360\n",
    "    \n",
    "    #sigma = 0 # random error introduction in desired direction, vary between 0-11.5 degrees\n",
    "    \n",
    "    #tau = 0.1 #timestep(in seconds)\n",
    "    #S = [1 for i in range(n)]# individual speeds - vector of size n, vary between 1-5 \n",
    "    \n",
    "    # call val_sim() for different variable values ( 4 cases)\n",
    "    # display the simulated plot for the 4 scenarios\n",
    "    V,C = val_sim(10, 8000, 1, 0, 1, 10, 200, 0, 0.1, 1, 100)\n",
    "    \n",
    "    return V,C\n",
    "    "
   ]
  },
  {
   "cell_type": "code",
   "execution_count": 15,
   "metadata": {},
   "outputs": [
    {
     "data": {
      "application/vnd.plotly.v1+json": {
       "config": {
        "plotlyServerURL": "https://plot.ly"
       },
       "data": [
        {
         "colorscale": [
          [
           0,
           "rgb(247,251,255)"
          ],
          [
           0.125,
           "rgb(222,235,247)"
          ],
          [
           0.25,
           "rgb(198,219,239)"
          ],
          [
           0.375,
           "rgb(158,202,225)"
          ],
          [
           0.5,
           "rgb(107,174,214)"
          ],
          [
           0.625,
           "rgb(66,146,198)"
          ],
          [
           0.75,
           "rgb(33,113,181)"
          ],
          [
           0.875,
           "rgb(8,81,156)"
          ],
          [
           1,
           "rgb(8,48,107)"
          ]
         ],
         "sizemode": "absolute",
         "sizeref": 40,
         "type": "cone",
         "u": [
          -0.5097958816312954,
          -0.7566955140125384,
          0.15627455208441307,
          -0.4796474936433359,
          0.6392704461957404,
          -0.6950359239374089,
          0.5407146638655541,
          0.5692704359342795,
          0.5097958816312955,
          -0.8535188136300669
         ],
         "v": [
          -0.4059524246737139,
          0.3672449523915338,
          0.18989467134255,
          0.8052236426430521,
          -0.511930121983674,
          0.4344127394374462,
          -0.4496510291588502,
          0.44957316631968686,
          0.4059524246737139,
          -0.4800056416597333
         ],
         "w": [
          -0.7584924442427247,
          0.5408724840627784,
          -0.969287510580076,
          0.3486447578414458,
          0.5738125537372635,
          -0.5728967064409832,
          0.7109441639518168,
          -0.6883423122956239,
          0.7584924442427246,
          -0.20273188884423413
         ],
         "x": [
          -17.602090254337636,
          -14.555285401473245,
          -3.2906822761443477,
          -1.2231932959051202,
          10.454593420474426,
          0.8671034788356312,
          4.608760965578837,
          5.226717346918188,
          -9.468403135187833,
          -5.6871869661672365
         ],
         "y": [
          -0.23888451784652667,
          4.531628161915218,
          -0.9353906876274618,
          6.789450136851223,
          -14.849695719591612,
          -8.857303633896569,
          1.0038822815989359,
          8.204331488500893,
          6.238001872428934,
          1.1465601215987822
         ],
         "z": [
          -0.7394314296052444,
          -9.931604180427708,
          -17.983341981898302,
          12.506571990974125,
          -4.432693205297382,
          -12.33536588944422,
          16.96955074193981,
          5.936166707240339,
          11.362157551396784,
          10.257652885800926
         ]
        }
       ],
       "layout": {
        "scene": {
         "aspectratio": {
          "x": 1,
          "y": 1,
          "z": 0.8
         },
         "camera": {
          "eye": {
           "x": 1.2,
           "y": 1.2,
           "z": 0.6
          }
         }
        },
        "template": {
         "data": {
          "bar": [
           {
            "error_x": {
             "color": "#2a3f5f"
            },
            "error_y": {
             "color": "#2a3f5f"
            },
            "marker": {
             "line": {
              "color": "#E5ECF6",
              "width": 0.5
             }
            },
            "type": "bar"
           }
          ],
          "barpolar": [
           {
            "marker": {
             "line": {
              "color": "#E5ECF6",
              "width": 0.5
             }
            },
            "type": "barpolar"
           }
          ],
          "carpet": [
           {
            "aaxis": {
             "endlinecolor": "#2a3f5f",
             "gridcolor": "white",
             "linecolor": "white",
             "minorgridcolor": "white",
             "startlinecolor": "#2a3f5f"
            },
            "baxis": {
             "endlinecolor": "#2a3f5f",
             "gridcolor": "white",
             "linecolor": "white",
             "minorgridcolor": "white",
             "startlinecolor": "#2a3f5f"
            },
            "type": "carpet"
           }
          ],
          "choropleth": [
           {
            "colorbar": {
             "outlinewidth": 0,
             "ticks": ""
            },
            "type": "choropleth"
           }
          ],
          "contour": [
           {
            "colorbar": {
             "outlinewidth": 0,
             "ticks": ""
            },
            "colorscale": [
             [
              0,
              "#0d0887"
             ],
             [
              0.1111111111111111,
              "#46039f"
             ],
             [
              0.2222222222222222,
              "#7201a8"
             ],
             [
              0.3333333333333333,
              "#9c179e"
             ],
             [
              0.4444444444444444,
              "#bd3786"
             ],
             [
              0.5555555555555556,
              "#d8576b"
             ],
             [
              0.6666666666666666,
              "#ed7953"
             ],
             [
              0.7777777777777778,
              "#fb9f3a"
             ],
             [
              0.8888888888888888,
              "#fdca26"
             ],
             [
              1,
              "#f0f921"
             ]
            ],
            "type": "contour"
           }
          ],
          "contourcarpet": [
           {
            "colorbar": {
             "outlinewidth": 0,
             "ticks": ""
            },
            "type": "contourcarpet"
           }
          ],
          "heatmap": [
           {
            "colorbar": {
             "outlinewidth": 0,
             "ticks": ""
            },
            "colorscale": [
             [
              0,
              "#0d0887"
             ],
             [
              0.1111111111111111,
              "#46039f"
             ],
             [
              0.2222222222222222,
              "#7201a8"
             ],
             [
              0.3333333333333333,
              "#9c179e"
             ],
             [
              0.4444444444444444,
              "#bd3786"
             ],
             [
              0.5555555555555556,
              "#d8576b"
             ],
             [
              0.6666666666666666,
              "#ed7953"
             ],
             [
              0.7777777777777778,
              "#fb9f3a"
             ],
             [
              0.8888888888888888,
              "#fdca26"
             ],
             [
              1,
              "#f0f921"
             ]
            ],
            "type": "heatmap"
           }
          ],
          "heatmapgl": [
           {
            "colorbar": {
             "outlinewidth": 0,
             "ticks": ""
            },
            "colorscale": [
             [
              0,
              "#0d0887"
             ],
             [
              0.1111111111111111,
              "#46039f"
             ],
             [
              0.2222222222222222,
              "#7201a8"
             ],
             [
              0.3333333333333333,
              "#9c179e"
             ],
             [
              0.4444444444444444,
              "#bd3786"
             ],
             [
              0.5555555555555556,
              "#d8576b"
             ],
             [
              0.6666666666666666,
              "#ed7953"
             ],
             [
              0.7777777777777778,
              "#fb9f3a"
             ],
             [
              0.8888888888888888,
              "#fdca26"
             ],
             [
              1,
              "#f0f921"
             ]
            ],
            "type": "heatmapgl"
           }
          ],
          "histogram": [
           {
            "marker": {
             "colorbar": {
              "outlinewidth": 0,
              "ticks": ""
             }
            },
            "type": "histogram"
           }
          ],
          "histogram2d": [
           {
            "colorbar": {
             "outlinewidth": 0,
             "ticks": ""
            },
            "colorscale": [
             [
              0,
              "#0d0887"
             ],
             [
              0.1111111111111111,
              "#46039f"
             ],
             [
              0.2222222222222222,
              "#7201a8"
             ],
             [
              0.3333333333333333,
              "#9c179e"
             ],
             [
              0.4444444444444444,
              "#bd3786"
             ],
             [
              0.5555555555555556,
              "#d8576b"
             ],
             [
              0.6666666666666666,
              "#ed7953"
             ],
             [
              0.7777777777777778,
              "#fb9f3a"
             ],
             [
              0.8888888888888888,
              "#fdca26"
             ],
             [
              1,
              "#f0f921"
             ]
            ],
            "type": "histogram2d"
           }
          ],
          "histogram2dcontour": [
           {
            "colorbar": {
             "outlinewidth": 0,
             "ticks": ""
            },
            "colorscale": [
             [
              0,
              "#0d0887"
             ],
             [
              0.1111111111111111,
              "#46039f"
             ],
             [
              0.2222222222222222,
              "#7201a8"
             ],
             [
              0.3333333333333333,
              "#9c179e"
             ],
             [
              0.4444444444444444,
              "#bd3786"
             ],
             [
              0.5555555555555556,
              "#d8576b"
             ],
             [
              0.6666666666666666,
              "#ed7953"
             ],
             [
              0.7777777777777778,
              "#fb9f3a"
             ],
             [
              0.8888888888888888,
              "#fdca26"
             ],
             [
              1,
              "#f0f921"
             ]
            ],
            "type": "histogram2dcontour"
           }
          ],
          "mesh3d": [
           {
            "colorbar": {
             "outlinewidth": 0,
             "ticks": ""
            },
            "type": "mesh3d"
           }
          ],
          "parcoords": [
           {
            "line": {
             "colorbar": {
              "outlinewidth": 0,
              "ticks": ""
             }
            },
            "type": "parcoords"
           }
          ],
          "scatter": [
           {
            "marker": {
             "colorbar": {
              "outlinewidth": 0,
              "ticks": ""
             }
            },
            "type": "scatter"
           }
          ],
          "scatter3d": [
           {
            "line": {
             "colorbar": {
              "outlinewidth": 0,
              "ticks": ""
             }
            },
            "marker": {
             "colorbar": {
              "outlinewidth": 0,
              "ticks": ""
             }
            },
            "type": "scatter3d"
           }
          ],
          "scattercarpet": [
           {
            "marker": {
             "colorbar": {
              "outlinewidth": 0,
              "ticks": ""
             }
            },
            "type": "scattercarpet"
           }
          ],
          "scattergeo": [
           {
            "marker": {
             "colorbar": {
              "outlinewidth": 0,
              "ticks": ""
             }
            },
            "type": "scattergeo"
           }
          ],
          "scattergl": [
           {
            "marker": {
             "colorbar": {
              "outlinewidth": 0,
              "ticks": ""
             }
            },
            "type": "scattergl"
           }
          ],
          "scattermapbox": [
           {
            "marker": {
             "colorbar": {
              "outlinewidth": 0,
              "ticks": ""
             }
            },
            "type": "scattermapbox"
           }
          ],
          "scatterpolar": [
           {
            "marker": {
             "colorbar": {
              "outlinewidth": 0,
              "ticks": ""
             }
            },
            "type": "scatterpolar"
           }
          ],
          "scatterpolargl": [
           {
            "marker": {
             "colorbar": {
              "outlinewidth": 0,
              "ticks": ""
             }
            },
            "type": "scatterpolargl"
           }
          ],
          "scatterternary": [
           {
            "marker": {
             "colorbar": {
              "outlinewidth": 0,
              "ticks": ""
             }
            },
            "type": "scatterternary"
           }
          ],
          "surface": [
           {
            "colorbar": {
             "outlinewidth": 0,
             "ticks": ""
            },
            "colorscale": [
             [
              0,
              "#0d0887"
             ],
             [
              0.1111111111111111,
              "#46039f"
             ],
             [
              0.2222222222222222,
              "#7201a8"
             ],
             [
              0.3333333333333333,
              "#9c179e"
             ],
             [
              0.4444444444444444,
              "#bd3786"
             ],
             [
              0.5555555555555556,
              "#d8576b"
             ],
             [
              0.6666666666666666,
              "#ed7953"
             ],
             [
              0.7777777777777778,
              "#fb9f3a"
             ],
             [
              0.8888888888888888,
              "#fdca26"
             ],
             [
              1,
              "#f0f921"
             ]
            ],
            "type": "surface"
           }
          ],
          "table": [
           {
            "cells": {
             "fill": {
              "color": "#EBF0F8"
             },
             "line": {
              "color": "white"
             }
            },
            "header": {
             "fill": {
              "color": "#C8D4E3"
             },
             "line": {
              "color": "white"
             }
            },
            "type": "table"
           }
          ]
         },
         "layout": {
          "annotationdefaults": {
           "arrowcolor": "#2a3f5f",
           "arrowhead": 0,
           "arrowwidth": 1
          },
          "colorscale": {
           "diverging": [
            [
             0,
             "#8e0152"
            ],
            [
             0.1,
             "#c51b7d"
            ],
            [
             0.2,
             "#de77ae"
            ],
            [
             0.3,
             "#f1b6da"
            ],
            [
             0.4,
             "#fde0ef"
            ],
            [
             0.5,
             "#f7f7f7"
            ],
            [
             0.6,
             "#e6f5d0"
            ],
            [
             0.7,
             "#b8e186"
            ],
            [
             0.8,
             "#7fbc41"
            ],
            [
             0.9,
             "#4d9221"
            ],
            [
             1,
             "#276419"
            ]
           ],
           "sequential": [
            [
             0,
             "#0d0887"
            ],
            [
             0.1111111111111111,
             "#46039f"
            ],
            [
             0.2222222222222222,
             "#7201a8"
            ],
            [
             0.3333333333333333,
             "#9c179e"
            ],
            [
             0.4444444444444444,
             "#bd3786"
            ],
            [
             0.5555555555555556,
             "#d8576b"
            ],
            [
             0.6666666666666666,
             "#ed7953"
            ],
            [
             0.7777777777777778,
             "#fb9f3a"
            ],
            [
             0.8888888888888888,
             "#fdca26"
            ],
            [
             1,
             "#f0f921"
            ]
           ],
           "sequentialminus": [
            [
             0,
             "#0d0887"
            ],
            [
             0.1111111111111111,
             "#46039f"
            ],
            [
             0.2222222222222222,
             "#7201a8"
            ],
            [
             0.3333333333333333,
             "#9c179e"
            ],
            [
             0.4444444444444444,
             "#bd3786"
            ],
            [
             0.5555555555555556,
             "#d8576b"
            ],
            [
             0.6666666666666666,
             "#ed7953"
            ],
            [
             0.7777777777777778,
             "#fb9f3a"
            ],
            [
             0.8888888888888888,
             "#fdca26"
            ],
            [
             1,
             "#f0f921"
            ]
           ]
          },
          "colorway": [
           "#636efa",
           "#EF553B",
           "#00cc96",
           "#ab63fa",
           "#FFA15A",
           "#19d3f3",
           "#FF6692",
           "#B6E880",
           "#FF97FF",
           "#FECB52"
          ],
          "font": {
           "color": "#2a3f5f"
          },
          "geo": {
           "bgcolor": "white",
           "lakecolor": "white",
           "landcolor": "#E5ECF6",
           "showlakes": true,
           "showland": true,
           "subunitcolor": "white"
          },
          "hoverlabel": {
           "align": "left"
          },
          "hovermode": "closest",
          "mapbox": {
           "style": "light"
          },
          "paper_bgcolor": "white",
          "plot_bgcolor": "#E5ECF6",
          "polar": {
           "angularaxis": {
            "gridcolor": "white",
            "linecolor": "white",
            "ticks": ""
           },
           "bgcolor": "#E5ECF6",
           "radialaxis": {
            "gridcolor": "white",
            "linecolor": "white",
            "ticks": ""
           }
          },
          "scene": {
           "xaxis": {
            "backgroundcolor": "#E5ECF6",
            "gridcolor": "white",
            "gridwidth": 2,
            "linecolor": "white",
            "showbackground": true,
            "ticks": "",
            "zerolinecolor": "white"
           },
           "yaxis": {
            "backgroundcolor": "#E5ECF6",
            "gridcolor": "white",
            "gridwidth": 2,
            "linecolor": "white",
            "showbackground": true,
            "ticks": "",
            "zerolinecolor": "white"
           },
           "zaxis": {
            "backgroundcolor": "#E5ECF6",
            "gridcolor": "white",
            "gridwidth": 2,
            "linecolor": "white",
            "showbackground": true,
            "ticks": "",
            "zerolinecolor": "white"
           }
          },
          "shapedefaults": {
           "line": {
            "color": "#2a3f5f"
           }
          },
          "ternary": {
           "aaxis": {
            "gridcolor": "white",
            "linecolor": "white",
            "ticks": ""
           },
           "baxis": {
            "gridcolor": "white",
            "linecolor": "white",
            "ticks": ""
           },
           "bgcolor": "#E5ECF6",
           "caxis": {
            "gridcolor": "white",
            "linecolor": "white",
            "ticks": ""
           }
          },
          "title": {
           "x": 0.05
          },
          "xaxis": {
           "automargin": true,
           "gridcolor": "white",
           "linecolor": "white",
           "ticks": "",
           "zerolinecolor": "white",
           "zerolinewidth": 2
          },
          "yaxis": {
           "automargin": true,
           "gridcolor": "white",
           "linecolor": "white",
           "ticks": "",
           "zerolinecolor": "white",
           "zerolinewidth": 2
          }
         }
        }
       }
      },
      "text/html": [
       "<div>\n",
       "        \n",
       "        \n",
       "            <div id=\"6b1f5dd0-4617-4022-a923-2236934c2e2b\" class=\"plotly-graph-div\" style=\"height:525px; width:100%;\"></div>\n",
       "            <script type=\"text/javascript\">\n",
       "                require([\"plotly\"], function(Plotly) {\n",
       "                    window.PLOTLYENV=window.PLOTLYENV || {};\n",
       "                    \n",
       "                if (document.getElementById(\"6b1f5dd0-4617-4022-a923-2236934c2e2b\")) {\n",
       "                    Plotly.newPlot(\n",
       "                        '6b1f5dd0-4617-4022-a923-2236934c2e2b',\n",
       "                        [{\"colorscale\": [[0.0, \"rgb(247,251,255)\"], [0.125, \"rgb(222,235,247)\"], [0.25, \"rgb(198,219,239)\"], [0.375, \"rgb(158,202,225)\"], [0.5, \"rgb(107,174,214)\"], [0.625, \"rgb(66,146,198)\"], [0.75, \"rgb(33,113,181)\"], [0.875, \"rgb(8,81,156)\"], [1.0, \"rgb(8,48,107)\"]], \"sizemode\": \"absolute\", \"sizeref\": 40, \"type\": \"cone\", \"u\": [-0.5097958816312954, -0.7566955140125384, 0.15627455208441307, -0.4796474936433359, 0.6392704461957404, -0.6950359239374089, 0.5407146638655541, 0.5692704359342795, 0.5097958816312955, -0.8535188136300669], \"v\": [-0.4059524246737139, 0.3672449523915338, 0.18989467134255, 0.8052236426430521, -0.511930121983674, 0.4344127394374462, -0.4496510291588502, 0.44957316631968686, 0.4059524246737139, -0.4800056416597333], \"w\": [-0.7584924442427247, 0.5408724840627784, -0.969287510580076, 0.3486447578414458, 0.5738125537372635, -0.5728967064409832, 0.7109441639518168, -0.6883423122956239, 0.7584924442427246, -0.20273188884423413], \"x\": [-17.602090254337636, -14.555285401473245, -3.2906822761443477, -1.2231932959051202, 10.454593420474426, 0.8671034788356312, 4.608760965578837, 5.226717346918188, -9.468403135187833, -5.6871869661672365], \"y\": [-0.23888451784652667, 4.531628161915218, -0.9353906876274618, 6.789450136851223, -14.849695719591612, -8.857303633896569, 1.0038822815989359, 8.204331488500893, 6.238001872428934, 1.1465601215987822], \"z\": [-0.7394314296052444, -9.931604180427708, -17.983341981898302, 12.506571990974125, -4.432693205297382, -12.33536588944422, 16.96955074193981, 5.936166707240339, 11.362157551396784, 10.257652885800926]}],\n",
       "                        {\"scene\": {\"aspectratio\": {\"x\": 1, \"y\": 1, \"z\": 0.8}, \"camera\": {\"eye\": {\"x\": 1.2, \"y\": 1.2, \"z\": 0.6}}}, \"template\": {\"data\": {\"bar\": [{\"error_x\": {\"color\": \"#2a3f5f\"}, \"error_y\": {\"color\": \"#2a3f5f\"}, \"marker\": {\"line\": {\"color\": \"#E5ECF6\", \"width\": 0.5}}, \"type\": \"bar\"}], \"barpolar\": [{\"marker\": {\"line\": {\"color\": \"#E5ECF6\", \"width\": 0.5}}, \"type\": \"barpolar\"}], \"carpet\": [{\"aaxis\": {\"endlinecolor\": \"#2a3f5f\", \"gridcolor\": \"white\", \"linecolor\": \"white\", \"minorgridcolor\": \"white\", \"startlinecolor\": \"#2a3f5f\"}, \"baxis\": {\"endlinecolor\": \"#2a3f5f\", \"gridcolor\": \"white\", \"linecolor\": \"white\", \"minorgridcolor\": \"white\", \"startlinecolor\": \"#2a3f5f\"}, \"type\": \"carpet\"}], \"choropleth\": [{\"colorbar\": {\"outlinewidth\": 0, \"ticks\": \"\"}, \"type\": \"choropleth\"}], \"contour\": [{\"colorbar\": {\"outlinewidth\": 0, \"ticks\": \"\"}, \"colorscale\": [[0.0, \"#0d0887\"], [0.1111111111111111, \"#46039f\"], [0.2222222222222222, \"#7201a8\"], [0.3333333333333333, \"#9c179e\"], [0.4444444444444444, \"#bd3786\"], [0.5555555555555556, \"#d8576b\"], [0.6666666666666666, \"#ed7953\"], [0.7777777777777778, \"#fb9f3a\"], [0.8888888888888888, \"#fdca26\"], [1.0, \"#f0f921\"]], \"type\": \"contour\"}], \"contourcarpet\": [{\"colorbar\": {\"outlinewidth\": 0, \"ticks\": \"\"}, \"type\": \"contourcarpet\"}], \"heatmap\": [{\"colorbar\": {\"outlinewidth\": 0, \"ticks\": \"\"}, \"colorscale\": [[0.0, \"#0d0887\"], [0.1111111111111111, \"#46039f\"], [0.2222222222222222, \"#7201a8\"], [0.3333333333333333, \"#9c179e\"], [0.4444444444444444, \"#bd3786\"], [0.5555555555555556, \"#d8576b\"], [0.6666666666666666, \"#ed7953\"], [0.7777777777777778, \"#fb9f3a\"], [0.8888888888888888, \"#fdca26\"], [1.0, \"#f0f921\"]], \"type\": \"heatmap\"}], \"heatmapgl\": [{\"colorbar\": {\"outlinewidth\": 0, \"ticks\": \"\"}, \"colorscale\": [[0.0, \"#0d0887\"], [0.1111111111111111, \"#46039f\"], [0.2222222222222222, \"#7201a8\"], [0.3333333333333333, \"#9c179e\"], [0.4444444444444444, \"#bd3786\"], [0.5555555555555556, \"#d8576b\"], [0.6666666666666666, \"#ed7953\"], [0.7777777777777778, \"#fb9f3a\"], [0.8888888888888888, \"#fdca26\"], [1.0, \"#f0f921\"]], \"type\": \"heatmapgl\"}], \"histogram\": [{\"marker\": {\"colorbar\": {\"outlinewidth\": 0, \"ticks\": \"\"}}, \"type\": \"histogram\"}], \"histogram2d\": [{\"colorbar\": {\"outlinewidth\": 0, \"ticks\": \"\"}, \"colorscale\": [[0.0, \"#0d0887\"], [0.1111111111111111, \"#46039f\"], [0.2222222222222222, \"#7201a8\"], [0.3333333333333333, \"#9c179e\"], [0.4444444444444444, \"#bd3786\"], [0.5555555555555556, \"#d8576b\"], [0.6666666666666666, \"#ed7953\"], [0.7777777777777778, \"#fb9f3a\"], [0.8888888888888888, \"#fdca26\"], [1.0, \"#f0f921\"]], \"type\": \"histogram2d\"}], \"histogram2dcontour\": [{\"colorbar\": {\"outlinewidth\": 0, \"ticks\": \"\"}, \"colorscale\": [[0.0, \"#0d0887\"], [0.1111111111111111, \"#46039f\"], [0.2222222222222222, \"#7201a8\"], [0.3333333333333333, \"#9c179e\"], [0.4444444444444444, \"#bd3786\"], [0.5555555555555556, \"#d8576b\"], [0.6666666666666666, \"#ed7953\"], [0.7777777777777778, \"#fb9f3a\"], [0.8888888888888888, \"#fdca26\"], [1.0, \"#f0f921\"]], \"type\": \"histogram2dcontour\"}], \"mesh3d\": [{\"colorbar\": {\"outlinewidth\": 0, \"ticks\": \"\"}, \"type\": \"mesh3d\"}], \"parcoords\": [{\"line\": {\"colorbar\": {\"outlinewidth\": 0, \"ticks\": \"\"}}, \"type\": \"parcoords\"}], \"scatter\": [{\"marker\": {\"colorbar\": {\"outlinewidth\": 0, \"ticks\": \"\"}}, \"type\": \"scatter\"}], \"scatter3d\": [{\"line\": {\"colorbar\": {\"outlinewidth\": 0, \"ticks\": \"\"}}, \"marker\": {\"colorbar\": {\"outlinewidth\": 0, \"ticks\": \"\"}}, \"type\": \"scatter3d\"}], \"scattercarpet\": [{\"marker\": {\"colorbar\": {\"outlinewidth\": 0, \"ticks\": \"\"}}, \"type\": \"scattercarpet\"}], \"scattergeo\": [{\"marker\": {\"colorbar\": {\"outlinewidth\": 0, \"ticks\": \"\"}}, \"type\": \"scattergeo\"}], \"scattergl\": [{\"marker\": {\"colorbar\": {\"outlinewidth\": 0, \"ticks\": \"\"}}, \"type\": \"scattergl\"}], \"scattermapbox\": [{\"marker\": {\"colorbar\": {\"outlinewidth\": 0, \"ticks\": \"\"}}, \"type\": \"scattermapbox\"}], \"scatterpolar\": [{\"marker\": {\"colorbar\": {\"outlinewidth\": 0, \"ticks\": \"\"}}, \"type\": \"scatterpolar\"}], \"scatterpolargl\": [{\"marker\": {\"colorbar\": {\"outlinewidth\": 0, \"ticks\": \"\"}}, \"type\": \"scatterpolargl\"}], \"scatterternary\": [{\"marker\": {\"colorbar\": {\"outlinewidth\": 0, \"ticks\": \"\"}}, \"type\": \"scatterternary\"}], \"surface\": [{\"colorbar\": {\"outlinewidth\": 0, \"ticks\": \"\"}, \"colorscale\": [[0.0, \"#0d0887\"], [0.1111111111111111, \"#46039f\"], [0.2222222222222222, \"#7201a8\"], [0.3333333333333333, \"#9c179e\"], [0.4444444444444444, \"#bd3786\"], [0.5555555555555556, \"#d8576b\"], [0.6666666666666666, \"#ed7953\"], [0.7777777777777778, \"#fb9f3a\"], [0.8888888888888888, \"#fdca26\"], [1.0, \"#f0f921\"]], \"type\": \"surface\"}], \"table\": [{\"cells\": {\"fill\": {\"color\": \"#EBF0F8\"}, \"line\": {\"color\": \"white\"}}, \"header\": {\"fill\": {\"color\": \"#C8D4E3\"}, \"line\": {\"color\": \"white\"}}, \"type\": \"table\"}]}, \"layout\": {\"annotationdefaults\": {\"arrowcolor\": \"#2a3f5f\", \"arrowhead\": 0, \"arrowwidth\": 1}, \"colorscale\": {\"diverging\": [[0, \"#8e0152\"], [0.1, \"#c51b7d\"], [0.2, \"#de77ae\"], [0.3, \"#f1b6da\"], [0.4, \"#fde0ef\"], [0.5, \"#f7f7f7\"], [0.6, \"#e6f5d0\"], [0.7, \"#b8e186\"], [0.8, \"#7fbc41\"], [0.9, \"#4d9221\"], [1, \"#276419\"]], \"sequential\": [[0.0, \"#0d0887\"], [0.1111111111111111, \"#46039f\"], [0.2222222222222222, \"#7201a8\"], [0.3333333333333333, \"#9c179e\"], [0.4444444444444444, \"#bd3786\"], [0.5555555555555556, \"#d8576b\"], [0.6666666666666666, \"#ed7953\"], [0.7777777777777778, \"#fb9f3a\"], [0.8888888888888888, \"#fdca26\"], [1.0, \"#f0f921\"]], \"sequentialminus\": [[0.0, \"#0d0887\"], [0.1111111111111111, \"#46039f\"], [0.2222222222222222, \"#7201a8\"], [0.3333333333333333, \"#9c179e\"], [0.4444444444444444, \"#bd3786\"], [0.5555555555555556, \"#d8576b\"], [0.6666666666666666, \"#ed7953\"], [0.7777777777777778, \"#fb9f3a\"], [0.8888888888888888, \"#fdca26\"], [1.0, \"#f0f921\"]]}, \"colorway\": [\"#636efa\", \"#EF553B\", \"#00cc96\", \"#ab63fa\", \"#FFA15A\", \"#19d3f3\", \"#FF6692\", \"#B6E880\", \"#FF97FF\", \"#FECB52\"], \"font\": {\"color\": \"#2a3f5f\"}, \"geo\": {\"bgcolor\": \"white\", \"lakecolor\": \"white\", \"landcolor\": \"#E5ECF6\", \"showlakes\": true, \"showland\": true, \"subunitcolor\": \"white\"}, \"hoverlabel\": {\"align\": \"left\"}, \"hovermode\": \"closest\", \"mapbox\": {\"style\": \"light\"}, \"paper_bgcolor\": \"white\", \"plot_bgcolor\": \"#E5ECF6\", \"polar\": {\"angularaxis\": {\"gridcolor\": \"white\", \"linecolor\": \"white\", \"ticks\": \"\"}, \"bgcolor\": \"#E5ECF6\", \"radialaxis\": {\"gridcolor\": \"white\", \"linecolor\": \"white\", \"ticks\": \"\"}}, \"scene\": {\"xaxis\": {\"backgroundcolor\": \"#E5ECF6\", \"gridcolor\": \"white\", \"gridwidth\": 2, \"linecolor\": \"white\", \"showbackground\": true, \"ticks\": \"\", \"zerolinecolor\": \"white\"}, \"yaxis\": {\"backgroundcolor\": \"#E5ECF6\", \"gridcolor\": \"white\", \"gridwidth\": 2, \"linecolor\": \"white\", \"showbackground\": true, \"ticks\": \"\", \"zerolinecolor\": \"white\"}, \"zaxis\": {\"backgroundcolor\": \"#E5ECF6\", \"gridcolor\": \"white\", \"gridwidth\": 2, \"linecolor\": \"white\", \"showbackground\": true, \"ticks\": \"\", \"zerolinecolor\": \"white\"}}, \"shapedefaults\": {\"line\": {\"color\": \"#2a3f5f\"}}, \"ternary\": {\"aaxis\": {\"gridcolor\": \"white\", \"linecolor\": \"white\", \"ticks\": \"\"}, \"baxis\": {\"gridcolor\": \"white\", \"linecolor\": \"white\", \"ticks\": \"\"}, \"bgcolor\": \"#E5ECF6\", \"caxis\": {\"gridcolor\": \"white\", \"linecolor\": \"white\", \"ticks\": \"\"}}, \"title\": {\"x\": 0.05}, \"xaxis\": {\"automargin\": true, \"gridcolor\": \"white\", \"linecolor\": \"white\", \"ticks\": \"\", \"zerolinecolor\": \"white\", \"zerolinewidth\": 2}, \"yaxis\": {\"automargin\": true, \"gridcolor\": \"white\", \"linecolor\": \"white\", \"ticks\": \"\", \"zerolinecolor\": \"white\", \"zerolinewidth\": 2}}}},\n",
       "                        {\"responsive\": true}\n",
       "                    ).then(function(){\n",
       "                            \n",
       "var gd = document.getElementById('6b1f5dd0-4617-4022-a923-2236934c2e2b');\n",
       "var x = new MutationObserver(function (mutations, observer) {{\n",
       "        var display = window.getComputedStyle(gd).display;\n",
       "        if (!display || display === 'none') {{\n",
       "            console.log([gd, 'removed!']);\n",
       "            Plotly.purge(gd);\n",
       "            observer.disconnect();\n",
       "        }}\n",
       "}});\n",
       "\n",
       "// Listen for the removal of the full notebook cells\n",
       "var notebookContainer = gd.closest('#notebook-container');\n",
       "if (notebookContainer) {{\n",
       "    x.observe(notebookContainer, {childList: true});\n",
       "}}\n",
       "\n",
       "// Listen for the clearing of the current output cell\n",
       "var outputEl = gd.closest('.output');\n",
       "if (outputEl) {{\n",
       "    x.observe(outputEl, {childList: true});\n",
       "}}\n",
       "\n",
       "                        })\n",
       "                };\n",
       "                });\n",
       "            </script>\n",
       "        </div>"
      ]
     },
     "metadata": {},
     "output_type": "display_data"
    }
   ],
   "source": [
    "if __name__ == '__main__':\n",
    "    \n",
    "\n",
    "    V, C = main()\n",
    "    df = pd.DataFrame(columns=['x','y','z','u','v','w'])\n",
    "    \n",
    "    for i in range(len(V)):\n",
    "        df.loc[i,'x'] = C[i][0] \n",
    "        df.loc[i,'y'] = C[i][1]\n",
    "        df.loc[i,'z'] = C[i][2]\n",
    "        df.loc[i,'u'] = V[i][0]\n",
    "        df.loc[i,'v'] = V[i][1]\n",
    "        df.loc[i,'w'] = V[i][2]       \n",
    "\n",
    "    fig = go.Figure(data = go.Cone(\n",
    "        x=df['x'],\n",
    "        y=df['y'],\n",
    "        z=df['z'],\n",
    "        u=df['u'],\n",
    "        v=df['v'],\n",
    "        w=df['w'],\n",
    "        colorscale='Blues',\n",
    "        sizemode=\"absolute\",\n",
    "        sizeref=40))\n",
    "\n",
    "    fig.update_layout(scene=dict(aspectratio=dict(x=1, y=1, z=0.8),\n",
    "                                 camera_eye=dict(x=1.2, y=1.2, z=0.6)))\n",
    "\n",
    "    fig.show()"
   ]
  }
 ],
 "metadata": {
  "kernelspec": {
   "display_name": "Python 3",
   "language": "python",
   "name": "python3"
  },
  "language_info": {
   "codemirror_mode": {
    "name": "ipython",
    "version": 3
   },
   "file_extension": ".py",
   "mimetype": "text/x-python",
   "name": "python",
   "nbconvert_exporter": "python",
   "pygments_lexer": "ipython3",
   "version": "3.6.6"
  }
 },
 "nbformat": 4,
 "nbformat_minor": 2
}
