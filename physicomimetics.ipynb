{
 "cells": [
  {
   "cell_type": "code",
   "execution_count": 2,
   "metadata": {},
   "outputs": [],
   "source": [
    "import math\n",
    "import numpy as np\n",
    "import matplotlib as plt\n",
    "import turtle"
   ]
  },
  {
   "cell_type": "code",
   "execution_count": null,
   "metadata": {},
   "outputs": [],
   "source": [
    "def init_positions(n):\n",
    "    pass\n",
    "def calculate_interagent_distance(positions):\n",
    "    # Given : n x 2 matrix\n",
    "    # return : n x n matrix\n",
    "    \n",
    "    pass\n",
    "\n",
    "def calculate_interagent_theta(positions):\n",
    "    # Given : n x 2 matrix\n",
    "    # return : n x n matrix\n",
    "    \n",
    "    pass\n",
    "\n",
    "def calculate_force(distance, Fmax, R):\n",
    "    pass\n",
    "def update_velocity(fx, fy, dt):\n",
    "    return vx, vy\n",
    "def update_position(vx, vy, dt):\n",
    "    return x, y\n",
    "def distance_to_move(dx, dy):\n",
    "    pass\n",
    "def bearing_angle(dx, dy):\n",
    "    pass\n",
    "\n",
    "    "
   ]
  },
  {
   "cell_type": "code",
   "execution_count": null,
   "metadata": {},
   "outputs": [],
   "source": [
    "# initialise positions for all agents and agent velocities to zero and simulate\n",
    "# calculate the distance, bearing of all robot for each robot - r,theta\n",
    "# for each timestep:\n",
    "    # For each robot do the following at each timestep:\n",
    "        # for each neighbouring agent do the following:\n",
    "            # calculate forces due to each robot\n",
    "            # break into x,y component and calculate cummulative\n",
    "        # calculate the updated velocity \n",
    "        # calculate new position of robot\n",
    "        # calculate, turn and distance to move for each agent\n",
    "    # simulate movement and set velocity back to zero(friction)\n"
   ]
  }
 ],
 "metadata": {
  "kernelspec": {
   "display_name": "Python 3",
   "language": "python",
   "name": "python3"
  },
  "language_info": {
   "codemirror_mode": {
    "name": "ipython",
    "version": 3
   },
   "file_extension": ".py",
   "mimetype": "text/x-python",
   "name": "python",
   "nbconvert_exporter": "python",
   "pygments_lexer": "ipython3",
   "version": "3.7.4"
  }
 },
 "nbformat": 4,
 "nbformat_minor": 2
}
